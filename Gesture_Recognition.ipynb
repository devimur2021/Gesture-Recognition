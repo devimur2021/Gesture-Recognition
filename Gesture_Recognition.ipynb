{
 "cells": [
  {
   "cell_type": "markdown",
   "metadata": {
    "id": "pcc3bN3WwSPR"
   },
   "source": [
    "# Gesture Recognition\n",
    "In this group project, you are going to build a 3D Conv model that will be able to predict the 5 gestures correctly. Please import the following libraries to get started. Once you have completed the code you can download the notebook for making a submission."
   ]
  },
  {
   "cell_type": "markdown",
   "metadata": {},
   "source": [
    "Import Required Libraries"
   ]
  },
  {
   "cell_type": "code",
   "execution_count": 6,
   "metadata": {
    "executionInfo": {
     "elapsed": 756,
     "status": "ok",
     "timestamp": 1657201755616,
     "user": {
      "displayName": "Kuttima Devi",
      "userId": "10577490825844766565"
     },
     "user_tz": -330
    },
    "id": "0w2y_aCrwSPS"
   },
   "outputs": [],
   "source": [
    "import numpy as np\n",
    "import os\n",
    "from imageio import imread\n",
    "from skimage.transform import resize\n",
    "import matplotlib.pyplot as plt\n",
    "import datetime\n",
    "import os\n",
    "import time"
   ]
  },
  {
   "cell_type": "code",
   "execution_count": 7,
   "metadata": {},
   "outputs": [],
   "source": [
    "from tensorflow.keras.models import Sequential\n",
    "from tensorflow.keras.layers import Dense, GRU,LSTM, Dropout, Flatten,TimeDistributed, BatchNormalization, Activation, Conv3D, MaxPooling3D,Conv2D,MaxPooling2D,Bidirectional\n",
    "from tensorflow.keras.callbacks import ModelCheckpoint, ReduceLROnPlateau\n",
    "from tensorflow.keras import optimizers"
   ]
  },
  {
   "cell_type": "markdown",
   "metadata": {
    "id": "UXgXq1h1wSPS"
   },
   "source": [
    "We set the random seed so that the results don't vary drastically."
   ]
  },
  {
   "cell_type": "code",
   "execution_count": 8,
   "metadata": {
    "executionInfo": {
     "elapsed": 6232,
     "status": "ok",
     "timestamp": 1657201767620,
     "user": {
      "displayName": "Kuttima Devi",
      "userId": "10577490825844766565"
     },
     "user_tz": -330
    },
    "id": "xm12O06NwSPT"
   },
   "outputs": [],
   "source": [
    "np.random.seed(30)\n",
    "import random as rn\n",
    "rn.seed(30)\n",
    "from tensorflow import keras\n",
    "import tensorflow as tf\n",
    "tf.random.set_seed(30)"
   ]
  },
  {
   "cell_type": "markdown",
   "metadata": {
    "id": "47pR50VjwSPT"
   },
   "source": [
    "In this block, you read the folder names for training and validation. You also set the `batch_size` here. Note that you set the batch size in such a way that you are able to use the GPU in full capacity. You keep increasing the batch size until the machine throws an error."
   ]
  },
  {
   "cell_type": "markdown",
   "metadata": {},
   "source": [
    "Tried with different batch sizes of 60 ,80 and 100 .Found batch size of 100 optimal for execution"
   ]
  },
  {
   "cell_type": "code",
   "execution_count": 9,
   "metadata": {},
   "outputs": [],
   "source": [
    "train_doc = np.random.permutation(open('/home/datasets/Project_data/train.csv').readlines())\n",
    "val_doc = np.random.permutation(open('/home/datasets/Project_data/val.csv').readlines())\n",
    "batch_size =80"
   ]
  },
  {
   "cell_type": "markdown",
   "metadata": {
    "id": "kbc_2fCpwSPT"
   },
   "source": [
    "## Generator\n",
    "This is one of the most important part of the code. The overall structure of the generator has been given. In the generator, you are going to preprocess the images as you have images of 2 different dimensions as well as create a batch of video frames. You have to experiment with `img_idx`, `y`,`z` and normalization such that you get high accuracy."
   ]
  },
  {
   "cell_type": "code",
   "execution_count": 10,
   "metadata": {
    "executionInfo": {
     "elapsed": 904,
     "status": "ok",
     "timestamp": 1657201946269,
     "user": {
      "displayName": "Kuttima Devi",
      "userId": "10577490825844766565"
     },
     "user_tz": -330
    },
    "id": "AcCKhFaDwSPU"
   },
   "outputs": [],
   "source": [
    "def generator(source_path, folder_list, batch_size):\n",
    "    print( 'Source path = ', source_path, '; batch size =', batch_size)\n",
    "    img_idx = [0,1,2,4,6,8,10,12,14,16,18,20,22,24,26,27,28,29] # Chose 18 frames\n",
    "    while True:\n",
    "        t = np.random.permutation(folder_list)\n",
    "        num_batches = len(t)//batch_size\n",
    "        \n",
    "        for batch in range(num_batches): # we iterate over the number of batches\n",
    "            #Tried image size of 128*128 ,100*100 ,80*80,found with image_size 64*64 the prediction accuracy is good\n",
    "            batch_data = np.zeros((batch_size,len(img_idx),64,64,3)) # x is the number of images you use for each video, (y,z) is the final size of the input images and 3 is the number of channels RGB\n",
    "            batch_labels = np.zeros((batch_size,5)) # batch_labels is the one hot representation of the output\n",
    "            \n",
    "            for folder in range(batch_size): # iterate over the batch_size\n",
    "                imgs = os.listdir(source_path+'/'+ t[folder + (batch*batch_size)].split(';')[0]) # read all the images in the folder\n",
    "                \n",
    "                for idx,item in enumerate(img_idx): #  Iterate iver the frames/images of a folder to read them in\n",
    "                    image = imread(source_path+'/'+ t[folder + (batch*batch_size)].strip().split(';')[0]+'/'+imgs[item]).astype(np.float32)\n",
    "                    \n",
    "                    #crop the images and resize them. Note that the images are of 2 different shape\n",
    "                    #and the conv3D will throw error if the inputs in a batch have different shapes \n",
    "                    image = resize(image,(64,64)).astype(np.float32)\n",
    "                    \n",
    "                    #normalising using min/max normalization and feeding in the image\n",
    "                    batch_data[folder,idx,:,:,0] = (image[:,:,0] - np.min(image[:,:,0]))/(np.max(image[:,:,0])- np.min(image[:,:,0])) \n",
    "                    batch_data[folder,idx,:,:,1] = (image[:,:,1] - np.min(image[:,:,1]))/(np.max(image[:,:,1])- np.min(image[:,:,1])) \n",
    "                    batch_data[folder,idx,:,:,2] = (image[:,:,2] - np.min(image[:,:,2]))/(np.max(image[:,:,2])- np.min(image[:,:,2])) \n",
    "                                        \n",
    "                #Prepare one hot encoded label vectors\n",
    "                batch_labels[folder, int(t[folder + (batch*batch_size)].strip().split(';')[2])] = 1\n",
    "            yield batch_data, batch_labels #you yield the batch_data and the batch_labels\n",
    "\n",
    "        \n",
    "        # Handle remaining data points which are left after full batches\n",
    "        if (len(t)%batch_size) != 0:\n",
    "            batch_data = np.zeros((len(t)%batch_size,len(img_idx),64,64,3))\n",
    "            batch_labels = np.zeros((len(t)%batch_size,5))\n",
    "            \n",
    "            for folder in range(len(t)%batch_size):\n",
    "                imgs = os.listdir(source_path+'/'+ t[folder + (num_batches*batch_size)].split(';')[0])\n",
    "                \n",
    "                for idx,item in enumerate(img_idx):\n",
    "                    image = imread(source_path+'/'+ t[folder + (num_batches*batch_size)].strip().split(';')[0]+'/'+imgs[item]).astype(np.float32)\n",
    "\n",
    "                    #cropping the images and resizing them. Note that the images are of 2 different shape \n",
    "                    image = resize(image,(64,64)).astype(np.float32)\n",
    "                   \n",
    "                    #normalising using min/max normalization and feeding in the image\n",
    "                    batch_data[folder,idx,:,:,0] = (image[:,:,0] - np.min(image[:,:,0]))/(np.max(image[:,:,0])- np.min(image[:,:,0]))\n",
    "                    batch_data[folder,idx,:,:,1] = (image[:,:,1] - np.min(image[:,:,1]))/(np.max(image[:,:,1])- np.min(image[:,:,1]))\n",
    "                    batch_data[folder,idx,:,:,2] = (image[:,:,2] - np.min(image[:,:,2]))/(np.max(image[:,:,2])- np.min(image[:,:,2]))\n",
    "\n",
    "                batch_labels[folder, int(t[folder + (num_batches*batch_size)].strip().split(';')[2])] = 1\n",
    "\n",
    "            yield batch_data, batch_labels\n"
   ]
  },
  {
   "cell_type": "markdown",
   "metadata": {
    "id": "E1w7J3mOwSPU"
   },
   "source": [
    "Note here that a video is represented above in the generator as (number of images, height, width, number of channels). Take this into consideration while creating the model architecture."
   ]
  },
  {
   "cell_type": "code",
   "execution_count": 11,
   "metadata": {
    "colab": {
     "base_uri": "https://localhost:8080/"
    },
    "executionInfo": {
     "elapsed": 512,
     "status": "ok",
     "timestamp": 1657202085353,
     "user": {
      "displayName": "Kuttima Devi",
      "userId": "10577490825844766565"
     },
     "user_tz": -330
    },
    "id": "SZE2rCBfwSPU",
    "outputId": "2c4c0b09-a0ee-493b-b4ff-b6732e505102"
   },
   "outputs": [
    {
     "name": "stdout",
     "output_type": "stream",
     "text": [
      "# training sequences = 663\n",
      "# validation sequences = 100\n",
      "# epochs = 30\n"
     ]
    }
   ],
   "source": [
    "curr_dt_time = datetime.datetime.now()\n",
    "train_path = '/home/datasets/Project_data/train'\n",
    "val_path = '/home/datasets/Project_data/val'\n",
    "\n",
    "num_train_sequences = len(train_doc)\n",
    "print('# training sequences =', num_train_sequences)\n",
    "\n",
    "num_val_sequences = len(val_doc)\n",
    "print('# validation sequences =', num_val_sequences)\n",
    "\n",
    "num_epochs = 30\n",
    "print ('# epochs =', num_epochs)"
   ]
  },
  {
   "cell_type": "markdown",
   "metadata": {
    "id": "KwIvXIhYwSPU"
   },
   "source": [
    "## Model\n",
    "Here you make the model using different functionalities that Keras provides. Remember to use `Conv3D` and `MaxPooling3D` and not `Conv2D` and `Maxpooling2D` for a 3D convolution model. You would want to use `TimeDistributed` while building a Conv2D + RNN model. Also remember that the last layer is the softmax. Design the network in such a way that the model is able to give good accuracy on the least number of parameters so that it can fit in the memory of the webcam."
   ]
  },
  {
   "cell_type": "markdown",
   "metadata": {},
   "source": [
    "## 3D Convolution Network"
   ]
  },
  {
   "cell_type": "code",
   "execution_count": 8,
   "metadata": {
    "executionInfo": {
     "elapsed": 579,
     "status": "ok",
     "timestamp": 1657202089195,
     "user": {
      "displayName": "Kuttima Devi",
      "userId": "10577490825844766565"
     },
     "user_tz": -330
    },
    "id": "vM5iFqR8wSPU"
   },
   "outputs": [
    {
     "name": "stderr",
     "output_type": "stream",
     "text": [
      "2022-07-09 09:53:12.117563: W tensorflow/core/common_runtime/gpu/gpu_bfc_allocator.cc:39] Overriding allow_growth setting because the TF_FORCE_GPU_ALLOW_GROWTH environment variable is set. Original config value was 0.\n",
      "2022-07-09 09:53:12.117649: I tensorflow/core/common_runtime/gpu/gpu_device.cc:1525] Created device /job:localhost/replica:0/task:0/device:GPU:0 with 14803 MB memory:  -> device: 0, name: Quadro RTX 5000, pci bus id: 0000:1d:00.0, compute capability: 7.5\n"
     ]
    }
   ],
   "source": [
    "nb_featuremap = [8,16,32,64]\n",
    "nb_dense = [128,64,5]\n",
    "nb_classes = 5\n",
    "Input_shape = (18,64,64,3)\n",
    "\n",
    "model = Sequential()\n",
    "model.add(Conv3D(nb_featuremap[0], \n",
    "                 kernel_size=(5,5,5),\n",
    "                 input_shape=Input_shape,\n",
    "                 padding='same', name=\"conv1\"))\n",
    "model.add(Activation('relu'))\n",
    "model.add(Conv3D(nb_featuremap[1], \n",
    "                 kernel_size=(3,3,3),\n",
    "                 padding='same',name=\"conv2\"))\n",
    "model.add(Activation('relu'))\n",
    "model.add(MaxPooling3D(pool_size=(2,2,2)))\n",
    "model.add(Conv3D(nb_featuremap[2], \n",
    "                 kernel_size=(1,3,3), \n",
    "                 padding='same',name=\"conv3\"))\n",
    "model.add(Activation('relu'))\n",
    "model.add(MaxPooling3D(pool_size=(2,2,2)))\n",
    "model.add(BatchNormalization())\n",
    "model.add(Dropout(0.25))\n",
    "model.add(MaxPooling3D(pool_size=(2,2,2)))\n",
    "model.add(Flatten())\n",
    "model.add(Dense(nb_dense[0], activation='relu'))\n",
    "model.add(Dropout(0.25))\n",
    "model.add(Dense(nb_dense[1], activation='relu'))\n",
    "#softmax layer\n",
    "model.add(Dense(nb_dense[2], activation='softmax'))"
   ]
  },
  {
   "cell_type": "markdown",
   "metadata": {
    "id": "4wnRDBi3wSPV"
   },
   "source": [
    "Now that you have written the model, the next step is to `compile` the model. When you print the `summary` of the model, you'll see the total number of parameters you have to train."
   ]
  },
  {
   "cell_type": "code",
   "execution_count": 10,
   "metadata": {
    "colab": {
     "base_uri": "https://localhost:8080/"
    },
    "executionInfo": {
     "elapsed": 542,
     "status": "ok",
     "timestamp": 1657202094444,
     "user": {
      "displayName": "Kuttima Devi",
      "userId": "10577490825844766565"
     },
     "user_tz": -330
    },
    "id": "QWK-QU4ZwSPV",
    "outputId": "89f0a848-3810-4cff-a737-56e858968b53",
    "scrolled": true
   },
   "outputs": [
    {
     "name": "stdout",
     "output_type": "stream",
     "text": [
      "Model: \"sequential\"\n",
      "_________________________________________________________________\n",
      " Layer (type)                Output Shape              Param #   \n",
      "=================================================================\n",
      " conv1 (Conv3D)              (None, 18, 64, 64, 8)     3008      \n",
      "                                                                 \n",
      " activation (Activation)     (None, 18, 64, 64, 8)     0         \n",
      "                                                                 \n",
      " conv2 (Conv3D)              (None, 18, 64, 64, 16)    3472      \n",
      "                                                                 \n",
      " activation_1 (Activation)   (None, 18, 64, 64, 16)    0         \n",
      "                                                                 \n",
      " max_pooling3d (MaxPooling3D  (None, 9, 32, 32, 16)    0         \n",
      " )                                                               \n",
      "                                                                 \n",
      " conv3 (Conv3D)              (None, 9, 32, 32, 32)     4640      \n",
      "                                                                 \n",
      " activation_2 (Activation)   (None, 9, 32, 32, 32)     0         \n",
      "                                                                 \n",
      " max_pooling3d_1 (MaxPooling  (None, 4, 16, 16, 32)    0         \n",
      " 3D)                                                             \n",
      "                                                                 \n",
      " batch_normalization (BatchN  (None, 4, 16, 16, 32)    128       \n",
      " ormalization)                                                   \n",
      "                                                                 \n",
      " dropout (Dropout)           (None, 4, 16, 16, 32)     0         \n",
      "                                                                 \n",
      " max_pooling3d_2 (MaxPooling  (None, 2, 8, 8, 32)      0         \n",
      " 3D)                                                             \n",
      "                                                                 \n",
      " flatten (Flatten)           (None, 4096)              0         \n",
      "                                                                 \n",
      " dense (Dense)               (None, 128)               524416    \n",
      "                                                                 \n",
      " dropout_1 (Dropout)         (None, 128)               0         \n",
      "                                                                 \n",
      " dense_1 (Dense)             (None, 64)                8256      \n",
      "                                                                 \n",
      " dense_2 (Dense)             (None, 5)                 325       \n",
      "                                                                 \n",
      "=================================================================\n",
      "Total params: 544,245\n",
      "Trainable params: 544,181\n",
      "Non-trainable params: 64\n",
      "_________________________________________________________________\n",
      "None\n"
     ]
    }
   ],
   "source": [
    "#Using adam optimizer\n",
    "model.compile(optimizer='adam', loss='categorical_crossentropy', metrics=['categorical_accuracy'])\n",
    "print (model.summary())\n"
   ]
  },
  {
   "cell_type": "markdown",
   "metadata": {
    "id": "tIcUumgDwSPV"
   },
   "source": [
    "Let us create the `train_generator` and the `val_generator` which will be used in `.fit_generator`."
   ]
  },
  {
   "cell_type": "code",
   "execution_count": 12,
   "metadata": {
    "executionInfo": {
     "elapsed": 510,
     "status": "ok",
     "timestamp": 1657202098259,
     "user": {
      "displayName": "Kuttima Devi",
      "userId": "10577490825844766565"
     },
     "user_tz": -330
    },
    "id": "jD08ndQEwSPV"
   },
   "outputs": [],
   "source": [
    "train_generator = generator(train_path, train_doc, batch_size)\n",
    "val_generator = generator(val_path, val_doc, batch_size)"
   ]
  },
  {
   "cell_type": "code",
   "execution_count": 13,
   "metadata": {
    "colab": {
     "base_uri": "https://localhost:8080/"
    },
    "executionInfo": {
     "elapsed": 776,
     "status": "ok",
     "timestamp": 1657202101450,
     "user": {
      "displayName": "Kuttima Devi",
      "userId": "10577490825844766565"
     },
     "user_tz": -330
    },
    "id": "2ylTY0_ZwSPV",
    "outputId": "2e10ac7f-6b77-461d-b7c4-f7a787bdd785"
   },
   "outputs": [],
   "source": [
    "model_name = 'model_init' + '_' + str(curr_dt_time).replace(' ','').replace(':','_') + '/'\n",
    "    \n",
    "if not os.path.exists(model_name):\n",
    "    os.mkdir(model_name)\n",
    "        \n",
    "filepath = model_name + 'model-{epoch:05d}-{loss:.5f}-{categorical_accuracy:.5f}-{val_loss:.5f}-{val_categorical_accuracy:.5f}.h5'\n",
    "\n",
    "checkpoint = ModelCheckpoint(filepath, monitor='val_loss', verbose=1, save_best_only=False, save_weights_only=False, mode='auto',save_freq ='epoch')\n",
    "\n",
    "LR = ReduceLROnPlateau(monitor='val_loss', factor=0.5, patience=2, verbose=1, mode='min', min_delta=0.0001, cooldown=0, min_lr=0.00001)\n",
    "callbacks_list = [checkpoint, LR]"
   ]
  },
  {
   "cell_type": "markdown",
   "metadata": {
    "id": "B209OkcwwSPV"
   },
   "source": [
    "The `steps_per_epoch` and `validation_steps` are used by `fit` method to decide the number of next() calls it need to make."
   ]
  },
  {
   "cell_type": "code",
   "execution_count": 14,
   "metadata": {
    "executionInfo": {
     "elapsed": 1082,
     "status": "ok",
     "timestamp": 1657202105730,
     "user": {
      "displayName": "Kuttima Devi",
      "userId": "10577490825844766565"
     },
     "user_tz": -330
    },
    "id": "h_R3lhXBwSPV"
   },
   "outputs": [],
   "source": [
    "if (num_train_sequences%batch_size) == 0:\n",
    "    steps_per_epoch = int(num_train_sequences/batch_size)\n",
    "else:\n",
    "    steps_per_epoch = (num_train_sequences//batch_size) + 1\n",
    "\n",
    "if (num_val_sequences%batch_size) == 0:\n",
    "    validation_steps = int(num_val_sequences/batch_size)\n",
    "else:\n",
    "    validation_steps = (num_val_sequences//batch_size) + 1"
   ]
  },
  {
   "cell_type": "markdown",
   "metadata": {
    "id": "e7pJIP7MwSPW"
   },
   "source": [
    "Let us now fit the model. This will start training the model and with the help of the checkpoints, you'll be able to save the model at the end of each epoch."
   ]
  },
  {
   "cell_type": "code",
   "execution_count": 16,
   "metadata": {
    "colab": {
     "base_uri": "https://localhost:8080/",
     "height": 383
    },
    "executionInfo": {
     "elapsed": 7578,
     "status": "error",
     "timestamp": 1657203036115,
     "user": {
      "displayName": "Kuttima Devi",
      "userId": "10577490825844766565"
     },
     "user_tz": -330
    },
    "id": "_TrU7-y2wSPW",
    "outputId": "19c98c9a-bf94-4f5d-8ec9-06a9fbf5115f"
   },
   "outputs": [
    {
     "name": "stdout",
     "output_type": "stream",
     "text": [
      "Epoch 1/30\n",
      "9/9 [==============================] - ETA: 0s - loss: 1.3941 - categorical_accuracy: 0.4163\n",
      "Epoch 00001: saving model to model_init_2022-07-0909_52_20.202759/model-00001-1.39409-0.41629-1.61071-0.22000.h5\n",
      "9/9 [==============================] - 103s 13s/step - loss: 1.3941 - categorical_accuracy: 0.4163 - val_loss: 1.6107 - val_categorical_accuracy: 0.2200 - lr: 0.0010\n",
      "Epoch 2/30\n",
      "9/9 [==============================] - ETA: 0s - loss: 1.2889 - categorical_accuracy: 0.4600\n",
      "Epoch 00002: saving model to model_init_2022-07-0909_52_20.202759/model-00002-1.28892-0.46003-1.60137-0.23000.h5\n",
      "9/9 [==============================] - 92s 11s/step - loss: 1.2889 - categorical_accuracy: 0.4600 - val_loss: 1.6014 - val_categorical_accuracy: 0.2300 - lr: 0.0010\n",
      "Epoch 3/30\n",
      "9/9 [==============================] - ETA: 0s - loss: 1.2056 - categorical_accuracy: 0.5204\n",
      "Epoch 00003: saving model to model_init_2022-07-0909_52_20.202759/model-00003-1.20557-0.52036-1.59443-0.21000.h5\n",
      "9/9 [==============================] - 106s 13s/step - loss: 1.2056 - categorical_accuracy: 0.5204 - val_loss: 1.5944 - val_categorical_accuracy: 0.2100 - lr: 0.0010\n",
      "Epoch 4/30\n",
      "9/9 [==============================] - ETA: 0s - loss: 1.0477 - categorical_accuracy: 0.5852\n",
      "Epoch 00004: saving model to model_init_2022-07-0909_52_20.202759/model-00004-1.04766-0.58522-1.52625-0.42000.h5\n",
      "9/9 [==============================] - 96s 12s/step - loss: 1.0477 - categorical_accuracy: 0.5852 - val_loss: 1.5263 - val_categorical_accuracy: 0.4200 - lr: 0.0010\n",
      "Epoch 5/30\n",
      "9/9 [==============================] - ETA: 0s - loss: 0.9129 - categorical_accuracy: 0.6456\n",
      "Epoch 00005: saving model to model_init_2022-07-0909_52_20.202759/model-00005-0.91289-0.64555-1.49536-0.52000.h5\n",
      "9/9 [==============================] - 102s 13s/step - loss: 0.9129 - categorical_accuracy: 0.6456 - val_loss: 1.4954 - val_categorical_accuracy: 0.5200 - lr: 0.0010\n",
      "Epoch 6/30\n",
      "9/9 [==============================] - ETA: 0s - loss: 0.8118 - categorical_accuracy: 0.6998\n",
      "Epoch 00006: saving model to model_init_2022-07-0909_52_20.202759/model-00006-0.81182-0.69985-1.50351-0.44000.h5\n",
      "9/9 [==============================] - 95s 12s/step - loss: 0.8118 - categorical_accuracy: 0.6998 - val_loss: 1.5035 - val_categorical_accuracy: 0.4400 - lr: 0.0010\n",
      "Epoch 7/30\n",
      "9/9 [==============================] - ETA: 0s - loss: 0.6755 - categorical_accuracy: 0.7436\n",
      "Epoch 00007: saving model to model_init_2022-07-0909_52_20.202759/model-00007-0.67546-0.74359-1.46879-0.52000.h5\n",
      "9/9 [==============================] - 103s 13s/step - loss: 0.6755 - categorical_accuracy: 0.7436 - val_loss: 1.4688 - val_categorical_accuracy: 0.5200 - lr: 0.0010\n",
      "Epoch 8/30\n",
      "9/9 [==============================] - ETA: 0s - loss: 0.5705 - categorical_accuracy: 0.8039\n",
      "Epoch 00008: saving model to model_init_2022-07-0909_52_20.202759/model-00008-0.57047-0.80392-1.43559-0.54000.h5\n",
      "9/9 [==============================] - 95s 12s/step - loss: 0.5705 - categorical_accuracy: 0.8039 - val_loss: 1.4356 - val_categorical_accuracy: 0.5400 - lr: 0.0010\n",
      "Epoch 9/30\n",
      "9/9 [==============================] - ETA: 0s - loss: 0.5050 - categorical_accuracy: 0.8341\n",
      "Epoch 00009: saving model to model_init_2022-07-0909_52_20.202759/model-00009-0.50503-0.83409-1.40428-0.57000.h5\n",
      "9/9 [==============================] - 103s 13s/step - loss: 0.5050 - categorical_accuracy: 0.8341 - val_loss: 1.4043 - val_categorical_accuracy: 0.5700 - lr: 0.0010\n",
      "Epoch 10/30\n",
      "9/9 [==============================] - ETA: 0s - loss: 0.3695 - categorical_accuracy: 0.8688\n",
      "Epoch 00010: saving model to model_init_2022-07-0909_52_20.202759/model-00010-0.36954-0.86878-1.33262-0.65000.h5\n",
      "9/9 [==============================] - 95s 12s/step - loss: 0.3695 - categorical_accuracy: 0.8688 - val_loss: 1.3326 - val_categorical_accuracy: 0.6500 - lr: 0.0010\n",
      "Epoch 11/30\n",
      "9/9 [==============================] - ETA: 0s - loss: 0.3493 - categorical_accuracy: 0.8688\n",
      "Epoch 00011: saving model to model_init_2022-07-0909_52_20.202759/model-00011-0.34925-0.86878-1.35059-0.59000.h5\n",
      "9/9 [==============================] - 103s 13s/step - loss: 0.3493 - categorical_accuracy: 0.8688 - val_loss: 1.3506 - val_categorical_accuracy: 0.5900 - lr: 0.0010\n",
      "Epoch 12/30\n",
      "9/9 [==============================] - ETA: 0s - loss: 0.2706 - categorical_accuracy: 0.9321\n",
      "Epoch 00012: saving model to model_init_2022-07-0909_52_20.202759/model-00012-0.27060-0.93213-1.25445-0.59000.h5\n",
      "9/9 [==============================] - 93s 12s/step - loss: 0.2706 - categorical_accuracy: 0.9321 - val_loss: 1.2544 - val_categorical_accuracy: 0.5900 - lr: 0.0010\n",
      "Epoch 13/30\n",
      "9/9 [==============================] - ETA: 0s - loss: 0.2361 - categorical_accuracy: 0.9291\n",
      "Epoch 00013: saving model to model_init_2022-07-0909_52_20.202759/model-00013-0.23615-0.92911-1.25727-0.50000.h5\n",
      "9/9 [==============================] - 100s 12s/step - loss: 0.2361 - categorical_accuracy: 0.9291 - val_loss: 1.2573 - val_categorical_accuracy: 0.5000 - lr: 0.0010\n",
      "Epoch 14/30\n",
      "9/9 [==============================] - ETA: 0s - loss: 0.2000 - categorical_accuracy: 0.9336\n",
      "Epoch 00014: saving model to model_init_2022-07-0909_52_20.202759/model-00014-0.20000-0.93363-1.20461-0.62000.h5\n",
      "9/9 [==============================] - 93s 12s/step - loss: 0.2000 - categorical_accuracy: 0.9336 - val_loss: 1.2046 - val_categorical_accuracy: 0.6200 - lr: 0.0010\n",
      "Epoch 15/30\n",
      "9/9 [==============================] - ETA: 0s - loss: 0.1709 - categorical_accuracy: 0.9412\n",
      "Epoch 00015: saving model to model_init_2022-07-0909_52_20.202759/model-00015-0.17086-0.94118-1.14773-0.65000.h5\n",
      "9/9 [==============================] - 104s 13s/step - loss: 0.1709 - categorical_accuracy: 0.9412 - val_loss: 1.1477 - val_categorical_accuracy: 0.6500 - lr: 0.0010\n",
      "Epoch 16/30\n",
      "9/9 [==============================] - ETA: 0s - loss: 0.1349 - categorical_accuracy: 0.9638\n",
      "Epoch 00016: saving model to model_init_2022-07-0909_52_20.202759/model-00016-0.13492-0.96380-1.06129-0.71000.h5\n",
      "9/9 [==============================] - 91s 11s/step - loss: 0.1349 - categorical_accuracy: 0.9638 - val_loss: 1.0613 - val_categorical_accuracy: 0.7100 - lr: 0.0010\n",
      "Epoch 17/30\n",
      "9/9 [==============================] - ETA: 0s - loss: 0.0728 - categorical_accuracy: 0.9834\n",
      "Epoch 00022: saving model to model_init_2022-07-0909_52_20.202759/model-00022-0.07281-0.98341-0.96447-0.66000.h5\n",
      "9/9 [==============================] - 94s 12s/step - loss: 0.0728 - categorical_accuracy: 0.9834 - val_loss: 0.9645 - val_categorical_accuracy: 0.6600 - lr: 0.0010\n",
      "Epoch 23/30\n",
      "9/9 [==============================] - ETA: 0s - loss: 0.0348 - categorical_accuracy: 0.9925\n",
      "Epoch 00023: saving model to model_init_2022-07-0909_52_20.202759/model-00023-0.03482-0.99246-0.87347-0.72000.h5\n",
      "9/9 [==============================] - 107s 13s/step - loss: 0.0348 - categorical_accuracy: 0.9925 - val_loss: 0.8735 - val_categorical_accuracy: 0.7200 - lr: 0.0010\n",
      "Epoch 24/30\n",
      "9/9 [==============================] - ETA: 0s - loss: 0.0354 - categorical_accuracy: 0.9879\n",
      "Epoch 00024: saving model to model_init_2022-07-0909_52_20.202759/model-00024-0.03545-0.98793-0.81291-0.75000.h5\n",
      "9/9 [==============================] - 93s 12s/step - loss: 0.0354 - categorical_accuracy: 0.9879 - val_loss: 0.8129 - val_categorical_accuracy: 0.7500 - lr: 0.0010\n",
      "Epoch 25/30\n",
      "9/9 [==============================] - ETA: 0s - loss: 0.0485 - categorical_accuracy: 0.9864\n",
      "Epoch 00025: saving model to model_init_2022-07-0909_52_20.202759/model-00025-0.04845-0.98643-0.81243-0.75000.h5\n",
      "9/9 [==============================] - 104s 13s/step - loss: 0.0485 - categorical_accuracy: 0.9864 - val_loss: 0.8124 - val_categorical_accuracy: 0.7500 - lr: 0.0010\n",
      "Epoch 26/30\n",
      "9/9 [==============================] - ETA: 0s - loss: 0.0504 - categorical_accuracy: 0.9834\n",
      "Epoch 00026: saving model to model_init_2022-07-0909_52_20.202759/model-00026-0.05045-0.98341-0.86865-0.67000.h5\n",
      "9/9 [==============================] - 92s 11s/step - loss: 0.0504 - categorical_accuracy: 0.9834 - val_loss: 0.8687 - val_categorical_accuracy: 0.6700 - lr: 0.0010\n",
      "Epoch 27/30\n",
      "9/9 [==============================] - ETA: 0s - loss: 0.0404 - categorical_accuracy: 0.9864\n",
      "Epoch 00027: saving model to model_init_2022-07-0909_52_20.202759/model-00027-0.04037-0.98643-0.81363-0.75000.h5\n",
      "\n",
      "Epoch 00027: ReduceLROnPlateau reducing learning rate to 0.0005000000237487257.\n",
      "9/9 [==============================] - 104s 13s/step - loss: 0.0404 - categorical_accuracy: 0.9864 - val_loss: 0.8136 - val_categorical_accuracy: 0.7500 - lr: 0.0010\n",
      "Epoch 28/30\n",
      "9/9 [==============================] - ETA: 0s - loss: 0.0445 - categorical_accuracy: 0.9864\n",
      "Epoch 00028: saving model to model_init_2022-07-0909_52_20.202759/model-00028-0.04449-0.98643-0.79566-0.76000.h5\n",
      "9/9 [==============================] - 93s 12s/step - loss: 0.0445 - categorical_accuracy: 0.9864 - val_loss: 0.7957 - val_categorical_accuracy: 0.7600 - lr: 5.0000e-04\n",
      "Epoch 29/30\n",
      "9/9 [==============================] - ETA: 0s - loss: 0.0286 - categorical_accuracy: 0.9925\n",
      "Epoch 00029: saving model to model_init_2022-07-0909_52_20.202759/model-00029-0.02860-0.99246-0.77603-0.77000.h5\n",
      "9/9 [==============================] - 101s 13s/step - loss: 0.0286 - categorical_accuracy: 0.9925 - val_loss: 0.7760 - val_categorical_accuracy: 0.7700 - lr: 5.0000e-04\n",
      "Epoch 30/30\n",
      "9/9 [==============================] - ETA: 0s - loss: 0.0200 - categorical_accuracy: 0.9970\n",
      "Epoch 00030: saving model to model_init_2022-07-0909_52_20.202759/model-00030-0.01998-0.99698-0.79077-0.78000.h5\n",
      "9/9 [==============================] - 91s 11s/step - loss: 0.0200 - categorical_accuracy: 0.9970 - val_loss: 0.7908 - val_categorical_accuracy: 0.7800 - lr: 5.0000e-04\n",
      "Total time taken for training:  2958.67  secs\n"
     ]
    }
   ],
   "source": [
    "start = time.time()\n",
    "\n",
    "history = model.fit(train_generator, steps_per_epoch=steps_per_epoch, epochs=num_epochs, verbose=1, \n",
    "                    callbacks=callbacks_list, validation_data=val_generator, \n",
    "                    validation_steps=validation_steps, class_weight=None, workers=1, initial_epoch=0)\n",
    "\n",
    "end = time.time()\n",
    "\n",
    "print(\"Total time taken for training: \", \"{:.2f}\".format((end-start)), \" secs\")"
   ]
  },
  {
   "cell_type": "code",
   "execution_count": 20,
   "metadata": {
    "id": "AJacUL2twSPW"
   },
   "outputs": [
    {
     "data": {
      "image/png": "[encoded data removed]",
      "text/plain": [
       "<Figure size 720x720 with 1 Axes>"
      ]
     },
     "metadata": {
      "needs_background": "light"
     },
     "output_type": "display_data"
    }
   ],
   "source": [
    "#Plotting the change in model accuracy on train and val sets\n",
    "import matplotlib.pyplot as plt\n",
    "fig_acc = plt.figure(figsize=(10, 10))\n",
    "plt.plot(history.history['categorical_accuracy'])\n",
    "plt.plot(history.history['val_categorical_accuracy'])\n",
    "plt.title('3D Conv model accuracy')\n",
    "plt.ylabel('accuracy')\n",
    "plt.xlabel('epoch')\n",
    "plt.legend(['train', 'val'], loc='upper left')\n",
    "plt.show()\n",
    "fig_acc.savefig(\"3D model_accuracy.png\")"
   ]
  },
  {
   "cell_type": "markdown",
   "metadata": {},
   "source": [
    "## CNN + RNN (GRU)"
   ]
  },
  {
   "cell_type": "code",
   "execution_count": 20,
   "metadata": {},
   "outputs": [
    {
     "name": "stdout",
     "output_type": "stream",
     "text": [
      "Model: \"sequential_2\"\n",
      "_________________________________________________________________\n",
      " Layer (type)                Output Shape              Param #   \n",
      "=================================================================\n",
      " time_distributed_18 (TimeDi  (None, 18, 32, 32, 8)    224       \n",
      " stributed)                                                      \n",
      "                                                                 \n",
      " time_distributed_19 (TimeDi  (None, 18, 32, 32, 16)   1168      \n",
      " stributed)                                                      \n",
      "                                                                 \n",
      " time_distributed_20 (TimeDi  (None, 18, 16, 16, 16)   0         \n",
      " stributed)                                                      \n",
      "                                                                 \n",
      " time_distributed_21 (TimeDi  (None, 18, 16, 16, 32)   4640      \n",
      " stributed)                                                      \n",
      "                                                                 \n",
      " time_distributed_22 (TimeDi  (None, 18, 8, 8, 32)     0         \n",
      " stributed)                                                      \n",
      "                                                                 \n",
      " time_distributed_23 (TimeDi  (None, 18, 8, 8, 64)     8256      \n",
      " stributed)                                                      \n",
      "                                                                 \n",
      " time_distributed_24 (TimeDi  (None, 18, 4, 4, 64)     0         \n",
      " stributed)                                                      \n",
      "                                                                 \n",
      " time_distributed_25 (TimeDi  (None, 18, 4, 4, 64)     256       \n",
      " stributed)                                                      \n",
      "                                                                 \n",
      " dropout_6 (Dropout)         (None, 18, 4, 4, 64)      0         \n",
      "                                                                 \n",
      " time_distributed_26 (TimeDi  (None, 18, 1024)         0         \n",
      " stributed)                                                      \n",
      "                                                                 \n",
      " dense_6 (Dense)             (None, 18, 128)           131200    \n",
      "                                                                 \n",
      " dropout_7 (Dropout)         (None, 18, 128)           0         \n",
      "                                                                 \n",
      " dense_7 (Dense)             (None, 18, 64)            8256      \n",
      "                                                                 \n",
      " dropout_8 (Dropout)         (None, 18, 64)            0         \n",
      "                                                                 \n",
      " gru_2 (GRU)                 (None, 128)               74496     \n",
      "                                                                 \n",
      " dense_8 (Dense)             (None, 5)                 645       \n",
      "                                                                 \n",
      "=================================================================\n",
      "Total params: 229,141\n",
      "Trainable params: 229,013\n",
      "Non-trainable params: 128\n",
      "_________________________________________________________________\n",
      "None\n"
     ]
    }
   ],
   "source": [
    "nb_featuremap = [8,16,32,64]\n",
    "nb_dense = [128,64,5]\n",
    "nb_classes = 5\n",
    "Input_shape = (18,64,64,3)\n",
    "\n",
    "modelGRU = Sequential()\n",
    "\n",
    "modelGRU.add(TimeDistributed(Conv2D(nb_featuremap[0], (3, 3), strides=(2, 2),activation='relu', padding='same'), input_shape=Input_shape))\n",
    "\n",
    "\n",
    "modelGRU.add(TimeDistributed(Conv2D(nb_featuremap[1], (3,3),padding='same', activation='relu')))\n",
    "modelGRU.add(TimeDistributed(MaxPooling2D((2, 2), strides=(2, 2))))\n",
    "\n",
    "modelGRU.add(TimeDistributed(Conv2D(nb_featuremap[2], (3,3),padding='same', activation='relu')))\n",
    "modelGRU.add(TimeDistributed(MaxPooling2D((2, 2), strides=(2, 2))))\n",
    "\n",
    "modelGRU.add(TimeDistributed(Conv2D(nb_featuremap[3], (2,2),padding='same', activation='relu')))\n",
    "modelGRU.add(TimeDistributed(MaxPooling2D((2, 2), strides=(2, 2))))\n",
    "\n",
    "modelGRU.add(TimeDistributed(BatchNormalization()))\n",
    "modelGRU.add(Dropout(0.25))\n",
    "\n",
    "modelGRU.add(TimeDistributed(Flatten()))\n",
    "\n",
    "modelGRU.add(Dense(nb_dense[0], activation='relu'))\n",
    "modelGRU.add(Dropout(0.25))\n",
    "modelGRU.add(Dense(nb_dense[1], activation='relu'))\n",
    "modelGRU.add(Dropout(0.25))\n",
    "\n",
    "## using GRU as the RNN model along with softmax as our last layer.\n",
    "modelGRU.add(GRU(128, return_sequences=False))\n",
    "modelGRU.add(Dense(nb_classes, activation='softmax')) # using Softmax as last layer\n",
    "modelGRU.compile(optimizer='adam', loss='categorical_crossentropy', metrics=['categorical_accuracy'])\n",
    "print (modelGRU.summary())"
   ]
  },
  {
   "cell_type": "code",
   "execution_count": 21,
   "metadata": {},
   "outputs": [
    {
     "name": "stdout",
     "output_type": "stream",
     "text": [
      "Source path =  /home/datasets/Project_data/train ; batch size = 80\n",
      "Epoch 1/30\n"
     ]
    },
    {
     "name": "stderr",
     "output_type": "stream",
     "text": [
      "2022-07-09 11:54:00.233325: I tensorflow/stream_executor/cuda/cuda_dnn.cc:377] Loaded cuDNN version 8302\n"
     ]
    },
    {
     "name": "stdout",
     "output_type": "stream",
     "text": [
      "9/9 [==============================] - ETA: 0s - loss: 1.5033 - categorical_accuracy: 0.3092Source path =  /home/datasets/Project_data/val ; batch size = 80\n",
      "\n",
      "Epoch 00001: saving model to model_init_2022-07-0911_28_36.686044/model-00001-1.50326-0.30920-1.60413-0.23000.h5\n",
      "9/9 [==============================] - 105s 12s/step - loss: 1.5033 - categorical_accuracy: 0.3092 - val_loss: 1.6041 - val_categorical_accuracy: 0.2300 - lr: 0.0010\n",
      "Epoch 2/30\n",
      "9/9 [==============================] - ETA: 0s - loss: 1.2605 - categorical_accuracy: 0.4555 \n",
      "Epoch 00002: saving model to model_init_2022-07-0911_28_36.686044/model-00002-1.26047-0.45551-1.65632-0.29000.h5\n",
      "9/9 [==============================] - 92s 12s/step - loss: 1.2605 - categorical_accuracy: 0.4555 - val_loss: 1.6563 - val_categorical_accuracy: 0.2900 - lr: 0.0010\n",
      "Epoch 3/30\n",
      "9/9 [==============================] - ETA: 0s - loss: 1.1324 - categorical_accuracy: 0.5400 \n",
      "Epoch 00003: saving model to model_init_2022-07-0911_28_36.686044/model-00003-1.13242-0.53997-1.61098-0.24000.h5\n",
      "\n",
      "Epoch 00003: ReduceLROnPlateau reducing learning rate to 0.0005000000237487257.\n",
      "9/9 [==============================] - 102s 13s/step - loss: 1.1324 - categorical_accuracy: 0.5400 - val_loss: 1.6110 - val_categorical_accuracy: 0.2400 - lr: 0.0010\n",
      "Epoch 4/30\n",
      "9/9 [==============================] - ETA: 0s - loss: 1.0150 - categorical_accuracy: 0.6018 \n",
      "Epoch 00004: saving model to model_init_2022-07-0911_28_36.686044/model-00004-1.01498-0.60181-1.60838-0.26000.h5\n",
      "9/9 [==============================] - 93s 12s/step - loss: 1.0150 - categorical_accuracy: 0.6018 - val_loss: 1.6084 - val_categorical_accuracy: 0.2600 - lr: 5.0000e-04\n",
      "Epoch 5/30\n",
      "9/9 [==============================] - ETA: 0s - loss: 0.9339 - categorical_accuracy: 0.6229 \n",
      "Epoch 00005: saving model to model_init_2022-07-0911_28_36.686044/model-00005-0.93390-0.62293-1.61291-0.23000.h5\n",
      "\n",
      "Epoch 00005: ReduceLROnPlateau reducing learning rate to 0.0002500000118743628.\n",
      "9/9 [==============================] - 102s 13s/step - loss: 0.9339 - categorical_accuracy: 0.6229 - val_loss: 1.6129 - val_categorical_accuracy: 0.2300 - lr: 5.0000e-04\n",
      "Epoch 6/30\n",
      "9/9 [==============================] - ETA: 0s - loss: 0.8575 - categorical_accuracy: 0.6863 \n",
      "Epoch 00006: saving model to model_init_2022-07-0911_28_36.686044/model-00006-0.85745-0.68627-1.59954-0.22000.h5\n",
      "9/9 [==============================] - 93s 12s/step - loss: 0.8575 - categorical_accuracy: 0.6863 - val_loss: 1.5995 - val_categorical_accuracy: 0.2200 - lr: 2.5000e-04\n",
      "Epoch 7/30\n",
      "9/9 [==============================] - ETA: 0s - loss: 0.7923 - categorical_accuracy: 0.6998\n",
      "Epoch 00007: saving model to model_init_2022-07-0911_28_36.686044/model-00007-0.79230-0.69985-1.56137-0.28000.h5\n",
      "9/9 [==============================] - 101s 13s/step - loss: 0.7923 - categorical_accuracy: 0.6998 - val_loss: 1.5614 - val_categorical_accuracy: 0.2800 - lr: 2.5000e-04\n",
      "Epoch 8/30\n",
      "9/9 [==============================] - ETA: 0s - loss: 0.7204 - categorical_accuracy: 0.7406 \n",
      "Epoch 00008: saving model to model_init_2022-07-0911_28_36.686044/model-00008-0.72037-0.74057-1.51329-0.31000.h5\n",
      "9/9 [==============================] - 93s 12s/step - loss: 0.7204 - categorical_accuracy: 0.7406 - val_loss: 1.5133 - val_categorical_accuracy: 0.3100 - lr: 2.5000e-04\n",
      "Epoch 9/30\n",
      "9/9 [==============================] - ETA: 0s - loss: 0.6703 - categorical_accuracy: 0.7662\n",
      "Epoch 00009: saving model to model_init_2022-07-0911_28_36.686044/model-00009-0.67029-0.76621-1.49333-0.31000.h5\n",
      "9/9 [==============================] - 101s 13s/step - loss: 0.6703 - categorical_accuracy: 0.7662 - val_loss: 1.4933 - val_categorical_accuracy: 0.3100 - lr: 2.5000e-04\n",
      "Epoch 10/30\n",
      "9/9 [==============================] - ETA: 0s - loss: 0.6192 - categorical_accuracy: 0.7903 \n",
      "Epoch 00010: saving model to model_init_2022-07-0911_28_36.686044/model-00010-0.61925-0.79035-1.46172-0.33000.h5\n",
      "9/9 [==============================] - 92s 11s/step - loss: 0.6192 - categorical_accuracy: 0.7903 - val_loss: 1.4617 - val_categorical_accuracy: 0.3300 - lr: 2.5000e-04\n",
      "Epoch 11/30\n",
      "9/9 [==============================] - ETA: 0s - loss: 0.5580 - categorical_accuracy: 0.8100 \n",
      "Epoch 00011: saving model to model_init_2022-07-0911_28_36.686044/model-00011-0.55803-0.80995-1.45112-0.34000.h5\n",
      "9/9 [==============================] - 100s 13s/step - loss: 0.5580 - categorical_accuracy: 0.8100 - val_loss: 1.4511 - val_categorical_accuracy: 0.3400 - lr: 2.5000e-04\n",
      "Epoch 12/30\n",
      "9/9 [==============================] - ETA: 0s - loss: 0.4860 - categorical_accuracy: 0.8341\n",
      "Epoch 00012: saving model to model_init_2022-07-0911_28_36.686044/model-00012-0.48599-0.83409-1.45970-0.35000.h5\n",
      "9/9 [==============================] - 93s 12s/step - loss: 0.4860 - categorical_accuracy: 0.8341 - val_loss: 1.4597 - val_categorical_accuracy: 0.3500 - lr: 2.5000e-04\n",
      "Epoch 13/30\n",
      "9/9 [==============================] - ETA: 0s - loss: 0.4289 - categorical_accuracy: 0.8673 \n",
      "Epoch 00013: saving model to model_init_2022-07-0911_28_36.686044/model-00013-0.42895-0.86727-1.38197-0.48000.h5\n",
      "9/9 [==============================] - 102s 13s/step - loss: 0.4289 - categorical_accuracy: 0.8673 - val_loss: 1.3820 - val_categorical_accuracy: 0.4800 - lr: 2.5000e-04\n",
      "Epoch 14/30\n",
      "9/9 [==============================] - ETA: 0s - loss: 0.3662 - categorical_accuracy: 0.8974 \n",
      "Epoch 00014: saving model to model_init_2022-07-0911_28_36.686044/model-00014-0.36620-0.89744-1.32129-0.55000.h5\n",
      "9/9 [==============================] - 93s 12s/step - loss: 0.3662 - categorical_accuracy: 0.8974 - val_loss: 1.3213 - val_categorical_accuracy: 0.5500 - lr: 2.5000e-04\n",
      "Epoch 15/30\n",
      "9/9 [==============================] - ETA: 0s - loss: 0.3295 - categorical_accuracy: 0.8944 \n",
      "Epoch 00015: saving model to model_init_2022-07-0911_28_36.686044/model-00015-0.32953-0.89442-1.31455-0.58000.h5\n",
      "9/9 [==============================] - 102s 13s/step - loss: 0.3295 - categorical_accuracy: 0.8944 - val_loss: 1.3146 - val_categorical_accuracy: 0.5800 - lr: 2.5000e-04\n",
      "Epoch 16/30\n",
      "9/9 [==============================] - ETA: 0s - loss: 0.2913 - categorical_accuracy: 0.9170 \n",
      "Epoch 00016: saving model to model_init_2022-07-0911_28_36.686044/model-00016-0.29130-0.91704-1.30000-0.55000.h5\n",
      "9/9 [==============================] - 93s 12s/step - loss: 0.2913 - categorical_accuracy: 0.9170 - val_loss: 1.3000 - val_categorical_accuracy: 0.5500 - lr: 2.5000e-04\n",
      "Epoch 17/30\n",
      "9/9 [==============================] - ETA: 0s - loss: 0.2430 - categorical_accuracy: 0.9367 \n",
      "Epoch 00017: saving model to model_init_2022-07-0911_28_36.686044/model-00017-0.24296-0.93665-1.25628-0.62000.h5\n",
      "9/9 [==============================] - 102s 13s/step - loss: 0.2430 - categorical_accuracy: 0.9367 - val_loss: 1.2563 - val_categorical_accuracy: 0.6200 - lr: 2.5000e-04\n",
      "Epoch 18/30\n",
      "9/9 [==============================] - ETA: 0s - loss: 0.2040 - categorical_accuracy: 0.9532 \n",
      "Epoch 00018: saving model to model_init_2022-07-0911_28_36.686044/model-00018-0.20396-0.95324-1.22771-0.60000.h5\n",
      "9/9 [==============================] - 92s 12s/step - loss: 0.2040 - categorical_accuracy: 0.9532 - val_loss: 1.2277 - val_categorical_accuracy: 0.6000 - lr: 2.5000e-04\n",
      "Epoch 19/30\n",
      "9/9 [==============================] - ETA: 0s - loss: 0.1741 - categorical_accuracy: 0.9532 \n",
      "Epoch 00019: saving model to model_init_2022-07-0911_28_36.686044/model-00019-0.17409-0.95324-1.19930-0.63000.h5\n",
      "9/9 [==============================] - 102s 13s/step - loss: 0.1741 - categorical_accuracy: 0.9532 - val_loss: 1.1993 - val_categorical_accuracy: 0.6300 - lr: 2.5000e-04\n",
      "Epoch 20/30\n",
      "9/9 [==============================] - ETA: 0s - loss: 0.1412 - categorical_accuracy: 0.9713 \n",
      "Epoch 00020: saving model to model_init_2022-07-0911_28_36.686044/model-00020-0.14120-0.97134-1.11363-0.62000.h5\n",
      "9/9 [==============================] - 94s 12s/step - loss: 0.1412 - categorical_accuracy: 0.9713 - val_loss: 1.1136 - val_categorical_accuracy: 0.6200 - lr: 2.5000e-04\n",
      "Epoch 21/30\n",
      "9/9 [==============================] - ETA: 0s - loss: 0.1197 - categorical_accuracy: 0.9729 \n",
      "Epoch 00021: saving model to model_init_2022-07-0911_28_36.686044/model-00021-0.11975-0.97285-1.13866-0.64000.h5\n",
      "9/9 [==============================] - 102s 13s/step - loss: 0.1197 - categorical_accuracy: 0.9729 - val_loss: 1.1387 - val_categorical_accuracy: 0.6400 - lr: 2.5000e-04\n",
      "Epoch 22/30\n",
      "9/9 [==============================] - ETA: 0s - loss: 0.1013 - categorical_accuracy: 0.9789 \n",
      "Epoch 00022: saving model to model_init_2022-07-0911_28_36.686044/model-00022-0.10131-0.97888-1.11074-0.64000.h5\n",
      "9/9 [==============================] - 93s 12s/step - loss: 0.1013 - categorical_accuracy: 0.9789 - val_loss: 1.1107 - val_categorical_accuracy: 0.6400 - lr: 2.5000e-04\n",
      "Epoch 23/30\n",
      "9/9 [==============================] - ETA: 0s - loss: 0.0910 - categorical_accuracy: 0.9804 \n",
      "Epoch 00023: saving model to model_init_2022-07-0911_28_36.686044/model-00023-0.09098-0.98039-1.11180-0.59000.h5\n",
      "9/9 [==============================] - 103s 13s/step - loss: 0.0910 - categorical_accuracy: 0.9804 - val_loss: 1.1118 - val_categorical_accuracy: 0.5900 - lr: 2.5000e-04\n",
      "Epoch 24/30\n",
      "9/9 [==============================] - ETA: 0s - loss: 0.0669 - categorical_accuracy: 0.9910\n",
      "Epoch 00024: saving model to model_init_2022-07-0911_28_36.686044/model-00024-0.06685-0.99095-1.13854-0.54000.h5\n",
      "\n",
      "Epoch 00024: ReduceLROnPlateau reducing learning rate to 0.0001250000059371814.\n",
      "9/9 [==============================] - 91s 11s/step - loss: 0.0669 - categorical_accuracy: 0.9910 - val_loss: 1.1385 - val_categorical_accuracy: 0.5400 - lr: 2.5000e-04\n",
      "Epoch 25/30\n",
      "9/9 [==============================] - ETA: 0s - loss: 0.0572 - categorical_accuracy: 0.9894 \n",
      "Epoch 00025: saving model to model_init_2022-07-0911_28_36.686044/model-00025-0.05724-0.98944-1.09327-0.57000.h5\n",
      "9/9 [==============================] - 101s 13s/step - loss: 0.0572 - categorical_accuracy: 0.9894 - val_loss: 1.0933 - val_categorical_accuracy: 0.5700 - lr: 1.2500e-04\n",
      "Epoch 26/30\n",
      "9/9 [==============================] - ETA: 0s - loss: 0.0470 - categorical_accuracy: 0.9925 \n",
      "Epoch 00026: saving model to model_init_2022-07-0911_28_36.686044/model-00026-0.04695-0.99246-1.14344-0.54000.h5\n",
      "9/9 [==============================] - 94s 12s/step - loss: 0.0470 - categorical_accuracy: 0.9925 - val_loss: 1.1434 - val_categorical_accuracy: 0.5400 - lr: 1.2500e-04\n",
      "Epoch 27/30\n",
      "9/9 [==============================] - ETA: 0s - loss: 0.0381 - categorical_accuracy: 0.9970 \n",
      "Epoch 00027: saving model to model_init_2022-07-0911_28_36.686044/model-00027-0.03814-0.99698-1.06182-0.63000.h5\n",
      "9/9 [==============================] - 103s 13s/step - loss: 0.0381 - categorical_accuracy: 0.9970 - val_loss: 1.0618 - val_categorical_accuracy: 0.6300 - lr: 1.2500e-04\n",
      "Epoch 28/30\n",
      "9/9 [==============================] - ETA: 0s - loss: 0.0442 - categorical_accuracy: 0.9970 \n",
      "Epoch 00028: saving model to model_init_2022-07-0911_28_36.686044/model-00028-0.04418-0.99698-0.99556-0.61000.h5\n",
      "9/9 [==============================] - 95s 12s/step - loss: 0.0442 - categorical_accuracy: 0.9970 - val_loss: 0.9956 - val_categorical_accuracy: 0.6100 - lr: 1.2500e-04\n",
      "Epoch 29/30\n",
      "9/9 [==============================] - ETA: 0s - loss: 0.0375 - categorical_accuracy: 0.9955 \n",
      "Epoch 00029: saving model to model_init_2022-07-0911_28_36.686044/model-00029-0.03746-0.99548-1.07488-0.57000.h5\n",
      "9/9 [==============================] - 104s 13s/step - loss: 0.0375 - categorical_accuracy: 0.9955 - val_loss: 1.0749 - val_categorical_accuracy: 0.5700 - lr: 1.2500e-04\n",
      "Epoch 30/30\n",
      "9/9 [==============================] - ETA: 0s - loss: 0.0350 - categorical_accuracy: 0.9985 \n",
      "Epoch 00030: saving model to model_init_2022-07-0911_28_36.686044/model-00030-0.03496-0.99849-1.11371-0.63000.h5\n",
      "\n",
      "Epoch 00030: ReduceLROnPlateau reducing learning rate to 6.25000029685907e-05.\n",
      "9/9 [==============================] - 97s 12s/step - loss: 0.0350 - categorical_accuracy: 0.9985 - val_loss: 1.1137 - val_categorical_accuracy: 0.6300 - lr: 1.2500e-04\n",
      "Total time taken for GRU training:  2939.78  secs\n"
     ]
    }
   ],
   "source": [
    "start = time.time()\n",
    "\n",
    "history = modelGRU.fit(train_generator, steps_per_epoch=steps_per_epoch, epochs=num_epochs, verbose=1, \n",
    "                    callbacks=callbacks_list, validation_data=val_generator, \n",
    "                    validation_steps=validation_steps, class_weight=None, workers=1, initial_epoch=0)\n",
    "\n",
    "end = time.time()\n",
    "\n",
    "print(\"Total time taken for GRU training: \", \"{:.2f}\".format((end-start)), \" secs\")"
   ]
  },
  {
   "cell_type": "code",
   "execution_count": 26,
   "metadata": {},
   "outputs": [
    {
     "data": {
      "image/png": "[encoded data removed]",
      "text/plain": [
       "<Figure size 720x720 with 1 Axes>"
      ]
     },
     "metadata": {
      "needs_background": "light"
     },
     "output_type": "display_data"
    }
   ],
   "source": [
    "#Plotting the change in model accuracy on train and val sets\n",
    "fig_acc = plt.figure(figsize=(10, 10))\n",
    "plt.plot(history.history['categorical_accuracy'])\n",
    "plt.plot(history.history['val_categorical_accuracy'])\n",
    "plt.title('GRUN model accuracy')\n",
    "plt.ylabel('accuracy')\n",
    "plt.xlabel('epoch')\n",
    "plt.legend(['train', 'val'], loc='upper left')\n",
    "plt.show()\n",
    "fig_acc.savefig(\"GRU model_accuracy.png\")"
   ]
  },
  {
   "cell_type": "markdown",
   "metadata": {},
   "source": [
    "## CNN+RNN(GRU) - Model 2"
   ]
  },
  {
   "cell_type": "code",
   "execution_count": 31,
   "metadata": {},
   "outputs": [
    {
     "name": "stdout",
     "output_type": "stream",
     "text": [
      "Model: \"sequential_6\"\n",
      "_________________________________________________________________\n",
      " Layer (type)                Output Shape              Param #   \n",
      "=================================================================\n",
      " time_distributed_60 (TimeDi  (None, 18, 32, 32, 8)    224       \n",
      " stributed)                                                      \n",
      "                                                                 \n",
      " time_distributed_61 (TimeDi  (None, 18, 32, 32, 16)   1168      \n",
      " stributed)                                                      \n",
      "                                                                 \n",
      " time_distributed_62 (TimeDi  (None, 18, 16, 16, 16)   0         \n",
      " stributed)                                                      \n",
      "                                                                 \n",
      " time_distributed_63 (TimeDi  (None, 18, 16, 16, 32)   4640      \n",
      " stributed)                                                      \n",
      "                                                                 \n",
      " time_distributed_64 (TimeDi  (None, 18, 8, 8, 32)     0         \n",
      " stributed)                                                      \n",
      "                                                                 \n",
      " time_distributed_65 (TimeDi  (None, 18, 8, 8, 64)     8256      \n",
      " stributed)                                                      \n",
      "                                                                 \n",
      " time_distributed_66 (TimeDi  (None, 18, 4, 4, 64)     0         \n",
      " stributed)                                                      \n",
      "                                                                 \n",
      " time_distributed_67 (TimeDi  (None, 18, 4, 4, 128)    32896     \n",
      " stributed)                                                      \n",
      "                                                                 \n",
      " time_distributed_68 (TimeDi  (None, 18, 2, 2, 128)    0         \n",
      " stributed)                                                      \n",
      "                                                                 \n",
      " time_distributed_69 (TimeDi  (None, 18, 2, 2, 128)    512       \n",
      " stributed)                                                      \n",
      "                                                                 \n",
      " dropout_18 (Dropout)        (None, 18, 2, 2, 128)     0         \n",
      "                                                                 \n",
      " time_distributed_70 (TimeDi  (None, 18, 512)          0         \n",
      " stributed)                                                      \n",
      "                                                                 \n",
      " dense_15 (Dense)            (None, 18, 128)           65664     \n",
      "                                                                 \n",
      " dropout_19 (Dropout)        (None, 18, 128)           0         \n",
      "                                                                 \n",
      " dense_16 (Dense)            (None, 18, 64)            8256      \n",
      "                                                                 \n",
      " dropout_20 (Dropout)        (None, 18, 64)            0         \n",
      "                                                                 \n",
      " gru_9 (GRU)                 (None, 256)               247296    \n",
      "                                                                 \n",
      " dense_17 (Dense)            (None, 5)                 1285      \n",
      "                                                                 \n",
      "=================================================================\n",
      "Total params: 370,197\n",
      "Trainable params: 369,941\n",
      "Non-trainable params: 256\n",
      "_________________________________________________________________\n",
      "None\n"
     ]
    }
   ],
   "source": [
    "nb_featuremap = [8,16,32,64,128]\n",
    "nb_dense = [128,64,5]\n",
    "nb_classes = 5\n",
    "Input_shape = (18,64,64,3)\n",
    "\n",
    "modelGRU = Sequential()\n",
    "\n",
    "modelGRU.add(TimeDistributed(Conv2D(nb_featuremap[0], (3, 3), strides=(2, 2),activation='relu', padding='same'), input_shape=Input_shape))\n",
    "\n",
    "\n",
    "modelGRU.add(TimeDistributed(Conv2D(nb_featuremap[1], (3,3),padding='same', activation='relu')))\n",
    "modelGRU.add(TimeDistributed(MaxPooling2D((2, 2), strides=(2, 2))))\n",
    "\n",
    "modelGRU.add(TimeDistributed(Conv2D(nb_featuremap[2], (3,3),padding='same', activation='relu')))\n",
    "modelGRU.add(TimeDistributed(MaxPooling2D((2, 2), strides=(2, 2))))\n",
    "\n",
    "modelGRU.add(TimeDistributed(Conv2D(nb_featuremap[3], (2,2),padding='same', activation='relu')))\n",
    "modelGRU.add(TimeDistributed(MaxPooling2D((2, 2), strides=(2, 2))))\n",
    "\n",
    "modelGRU.add(TimeDistributed(Conv2D(nb_featuremap[4], (2,2),padding='same', activation='relu')))\n",
    "modelGRU.add(TimeDistributed(MaxPooling2D((2, 2), strides=(2, 2))))\n",
    "\n",
    "modelGRU.add(TimeDistributed(BatchNormalization()))\n",
    "modelGRU.add(Dropout(0.25))\n",
    "\n",
    "modelGRU.add(TimeDistributed(Flatten()))\n",
    "\n",
    "modelGRU.add(Dense(nb_dense[0], activation='relu'))\n",
    "modelGRU.add(Dropout(0.25))\n",
    "modelGRU.add(Dense(nb_dense[1], activation='relu'))\n",
    "modelGRU.add(Dropout(0.25))\n",
    "\n",
    "## using 2 - GRU as the RNN model along with softmax as our last layer.\n",
    "modelGRU.add(GRU(256, return_sequences=False))\n",
    "modelGRU.add(Dense(nb_classes, activation='softmax')) # using Softmax as last layer\n",
    "modelGRU.compile(optimizer='adam', loss='categorical_crossentropy', metrics=['categorical_accuracy'])\n",
    "print (modelGRU.summary())"
   ]
  },
  {
   "cell_type": "code",
   "execution_count": 32,
   "metadata": {},
   "outputs": [
    {
     "name": "stdout",
     "output_type": "stream",
     "text": [
      "Epoch 1/30\n",
      "9/9 [==============================] - ETA: 0s - loss: 1.4588 - categorical_accuracy: 0.3047\n",
      "Epoch 00001: saving model to model_init_2022-07-0911_28_36.686044/model-00001-1.45880-0.30468-1.60425-0.23000.h5\n",
      "9/9 [==============================] - 104s 13s/step - loss: 1.4588 - categorical_accuracy: 0.3047 - val_loss: 1.6042 - val_categorical_accuracy: 0.2300 - lr: 0.0010\n",
      "Epoch 2/30\n",
      "9/9 [==============================] - ETA: 0s - loss: 1.2452 - categorical_accuracy: 0.4751\n",
      "Epoch 00002: saving model to model_init_2022-07-0911_28_36.686044/model-00002-1.24517-0.47511-1.58943-0.23000.h5\n",
      "9/9 [==============================] - 93s 12s/step - loss: 1.2452 - categorical_accuracy: 0.4751 - val_loss: 1.5894 - val_categorical_accuracy: 0.2300 - lr: 0.0010\n",
      "Epoch 3/30\n",
      "9/9 [==============================] - ETA: 0s - loss: 1.1009 - categorical_accuracy: 0.5249\n",
      "Epoch 00003: saving model to model_init_2022-07-0911_28_36.686044/model-00003-1.10089-0.52489-1.59841-0.27000.h5\n",
      "9/9 [==============================] - 103s 13s/step - loss: 1.1009 - categorical_accuracy: 0.5249 - val_loss: 1.5984 - val_categorical_accuracy: 0.2700 - lr: 0.0010\n",
      "Epoch 4/30\n",
      "9/9 [==============================] - ETA: 0s - loss: 0.9540 - categorical_accuracy: 0.5943\n",
      "Epoch 00004: saving model to model_init_2022-07-0911_28_36.686044/model-00004-0.95400-0.59427-1.59902-0.21000.h5\n",
      "\n",
      "Epoch 00004: ReduceLROnPlateau reducing learning rate to 0.0005000000237487257.\n",
      "9/9 [==============================] - 92s 12s/step - loss: 0.9540 - categorical_accuracy: 0.5943 - val_loss: 1.5990 - val_categorical_accuracy: 0.2100 - lr: 0.0010\n",
      "Epoch 5/30\n",
      "9/9 [==============================] - ETA: 0s - loss: 0.8878 - categorical_accuracy: 0.6290\n",
      "Epoch 00005: saving model to model_init_2022-07-0911_28_36.686044/model-00005-0.88781-0.62896-1.60134-0.23000.h5\n",
      "9/9 [==============================] - 104s 13s/step - loss: 0.8878 - categorical_accuracy: 0.6290 - val_loss: 1.6013 - val_categorical_accuracy: 0.2300 - lr: 5.0000e-04\n",
      "Epoch 6/30\n",
      "9/9 [==============================] - ETA: 0s - loss: 0.7635 - categorical_accuracy: 0.7059\n",
      "Epoch 00006: saving model to model_init_2022-07-0911_28_36.686044/model-00006-0.76355-0.70588-1.58311-0.34000.h5\n",
      "9/9 [==============================] - 91s 11s/step - loss: 0.7635 - categorical_accuracy: 0.7059 - val_loss: 1.5831 - val_categorical_accuracy: 0.3400 - lr: 5.0000e-04\n",
      "Epoch 7/30\n",
      "9/9 [==============================] - ETA: 0s - loss: 0.7175 - categorical_accuracy: 0.7225\n",
      "Epoch 00007: saving model to model_init_2022-07-0911_28_36.686044/model-00007-0.71746-0.72247-1.55296-0.29000.h5\n",
      "9/9 [==============================] - 103s 13s/step - loss: 0.7175 - categorical_accuracy: 0.7225 - val_loss: 1.5530 - val_categorical_accuracy: 0.2900 - lr: 5.0000e-04\n",
      "Epoch 8/30\n",
      "9/9 [==============================] - ETA: 0s - loss: 0.5876 - categorical_accuracy: 0.7768\n",
      "Epoch 00008: saving model to model_init_2022-07-0911_28_36.686044/model-00008-0.58762-0.77677-1.56985-0.30000.h5\n",
      "9/9 [==============================] - 96s 12s/step - loss: 0.5876 - categorical_accuracy: 0.7768 - val_loss: 1.5698 - val_categorical_accuracy: 0.3000 - lr: 5.0000e-04\n",
      "Epoch 9/30\n",
      "9/9 [==============================] - ETA: 0s - loss: 0.4703 - categorical_accuracy: 0.8296\n",
      "Epoch 00009: saving model to model_init_2022-07-0911_28_36.686044/model-00009-0.47034-0.82956-1.57170-0.31000.h5\n",
      "\n",
      "Epoch 00009: ReduceLROnPlateau reducing learning rate to 0.0002500000118743628.\n",
      "9/9 [==============================] - 103s 13s/step - loss: 0.4703 - categorical_accuracy: 0.8296 - val_loss: 1.5717 - val_categorical_accuracy: 0.3100 - lr: 5.0000e-04\n",
      "Epoch 10/30\n",
      "9/9 [==============================] - ETA: 0s - loss: 0.4102 - categorical_accuracy: 0.8431\n",
      "Epoch 00010: saving model to model_init_2022-07-0911_28_36.686044/model-00010-0.41021-0.84314-1.49917-0.36000.h5\n",
      "9/9 [==============================] - 95s 12s/step - loss: 0.4102 - categorical_accuracy: 0.8431 - val_loss: 1.4992 - val_categorical_accuracy: 0.3600 - lr: 2.5000e-04\n",
      "Epoch 11/30\n",
      "9/9 [==============================] - ETA: 0s - loss: 0.3403 - categorical_accuracy: 0.8763\n",
      "Epoch 00011: saving model to model_init_2022-07-0911_28_36.686044/model-00011-0.34032-0.87632-1.51776-0.35000.h5\n",
      "9/9 [==============================] - 101s 13s/step - loss: 0.3403 - categorical_accuracy: 0.8763 - val_loss: 1.5178 - val_categorical_accuracy: 0.3500 - lr: 2.5000e-04\n",
      "Epoch 12/30\n",
      "9/9 [==============================] - ETA: 0s - loss: 0.2798 - categorical_accuracy: 0.9050\n",
      "Epoch 00012: saving model to model_init_2022-07-0911_28_36.686044/model-00012-0.27978-0.90498-1.47243-0.32000.h5\n",
      "9/9 [==============================] - 94s 12s/step - loss: 0.2798 - categorical_accuracy: 0.9050 - val_loss: 1.4724 - val_categorical_accuracy: 0.3200 - lr: 2.5000e-04\n",
      "Epoch 13/30\n",
      "9/9 [==============================] - ETA: 0s - loss: 0.2381 - categorical_accuracy: 0.9186\n",
      "Epoch 00013: saving model to model_init_2022-07-0911_28_36.686044/model-00013-0.23809-0.91855-1.46876-0.37000.h5\n",
      "9/9 [==============================] - 103s 13s/step - loss: 0.2381 - categorical_accuracy: 0.9186 - val_loss: 1.4688 - val_categorical_accuracy: 0.3700 - lr: 2.5000e-04\n",
      "Epoch 14/30\n",
      "9/9 [==============================] - ETA: 0s - loss: 0.2178 - categorical_accuracy: 0.9261\n",
      "Epoch 00014: saving model to model_init_2022-07-0911_28_36.686044/model-00014-0.21781-0.92609-1.45350-0.40000.h5\n",
      "9/9 [==============================] - 93s 12s/step - loss: 0.2178 - categorical_accuracy: 0.9261 - val_loss: 1.4535 - val_categorical_accuracy: 0.4000 - lr: 2.5000e-04\n",
      "Epoch 15/30\n",
      "9/9 [==============================] - ETA: 0s - loss: 0.1976 - categorical_accuracy: 0.9291\n",
      "Epoch 00015: saving model to model_init_2022-07-0911_28_36.686044/model-00015-0.19757-0.92911-1.41662-0.46000.h5\n",
      "9/9 [==============================] - 102s 13s/step - loss: 0.1976 - categorical_accuracy: 0.9291 - val_loss: 1.4166 - val_categorical_accuracy: 0.4600 - lr: 2.5000e-04\n",
      "Epoch 16/30\n",
      "9/9 [==============================] - ETA: 0s - loss: 0.1312 - categorical_accuracy: 0.9729\n",
      "Epoch 00016: saving model to model_init_2022-07-0911_28_36.686044/model-00016-0.13120-0.97285-1.38692-0.42000.h5\n",
      "9/9 [==============================] - 95s 12s/step - loss: 0.1312 - categorical_accuracy: 0.9729 - val_loss: 1.3869 - val_categorical_accuracy: 0.4200 - lr: 2.5000e-04\n",
      "Epoch 17/30\n",
      "9/9 [==============================] - ETA: 0s - loss: 0.1395 - categorical_accuracy: 0.9563\n",
      "Epoch 00017: saving model to model_init_2022-07-0911_28_36.686044/model-00017-0.13951-0.95626-1.33093-0.47000.h5\n",
      "9/9 [==============================] - 101s 13s/step - loss: 0.1395 - categorical_accuracy: 0.9563 - val_loss: 1.3309 - val_categorical_accuracy: 0.4700 - lr: 2.5000e-04\n",
      "Epoch 18/30\n",
      "9/9 [==============================] - ETA: 0s - loss: 0.1150 - categorical_accuracy: 0.9623\n",
      "Epoch 00018: saving model to model_init_2022-07-0911_28_36.686044/model-00018-0.11502-0.96229-1.36519-0.43000.h5\n",
      "9/9 [==============================] - 96s 12s/step - loss: 0.1150 - categorical_accuracy: 0.9623 - val_loss: 1.3652 - val_categorical_accuracy: 0.4300 - lr: 2.5000e-04\n",
      "Epoch 19/30\n",
      "9/9 [==============================] - ETA: 0s - loss: 0.0823 - categorical_accuracy: 0.9774\n",
      "Epoch 00019: saving model to model_init_2022-07-0911_28_36.686044/model-00019-0.08225-0.97738-1.30702-0.47000.h5\n",
      "9/9 [==============================] - 100s 12s/step - loss: 0.0823 - categorical_accuracy: 0.9774 - val_loss: 1.3070 - val_categorical_accuracy: 0.4700 - lr: 2.5000e-04\n",
      "Epoch 20/30\n",
      "9/9 [==============================] - ETA: 0s - loss: 0.0905 - categorical_accuracy: 0.9713\n",
      "Epoch 00020: saving model to model_init_2022-07-0911_28_36.686044/model-00020-0.09048-0.97134-1.27037-0.54000.h5\n",
      "9/9 [==============================] - 93s 12s/step - loss: 0.0905 - categorical_accuracy: 0.9713 - val_loss: 1.2704 - val_categorical_accuracy: 0.5400 - lr: 2.5000e-04\n",
      "Epoch 21/30\n",
      "9/9 [==============================] - ETA: 0s - loss: 0.0613 - categorical_accuracy: 0.9910\n",
      "Epoch 00021: saving model to model_init_2022-07-0911_28_36.686044/model-00021-0.06126-0.99095-1.29130-0.45000.h5\n",
      "9/9 [==============================] - 105s 13s/step - loss: 0.0613 - categorical_accuracy: 0.9910 - val_loss: 1.2913 - val_categorical_accuracy: 0.4500 - lr: 2.5000e-04\n",
      "Epoch 22/30\n",
      "9/9 [==============================] - ETA: 0s - loss: 0.0610 - categorical_accuracy: 0.9879\n",
      "Epoch 00022: saving model to model_init_2022-07-0911_28_36.686044/model-00022-0.06101-0.98793-1.27919-0.47000.h5\n",
      "\n",
      "Epoch 00022: ReduceLROnPlateau reducing learning rate to 0.0001250000059371814.\n",
      "9/9 [==============================] - 92s 11s/step - loss: 0.0610 - categorical_accuracy: 0.9879 - val_loss: 1.2792 - val_categorical_accuracy: 0.4700 - lr: 2.5000e-04\n",
      "Epoch 23/30\n",
      "9/9 [==============================] - ETA: 0s - loss: 0.0452 - categorical_accuracy: 0.9834\n",
      "Epoch 00023: saving model to model_init_2022-07-0911_28_36.686044/model-00023-0.04519-0.98341-1.19588-0.54000.h5\n",
      "9/9 [==============================] - 103s 13s/step - loss: 0.0452 - categorical_accuracy: 0.9834 - val_loss: 1.1959 - val_categorical_accuracy: 0.5400 - lr: 1.2500e-04\n",
      "Epoch 24/30\n",
      "9/9 [==============================] - ETA: 0s - loss: 0.0428 - categorical_accuracy: 0.9910\n",
      "Epoch 00024: saving model to model_init_2022-07-0911_28_36.686044/model-00024-0.04282-0.99095-1.25788-0.50000.h5\n",
      "9/9 [==============================] - 92s 12s/step - loss: 0.0428 - categorical_accuracy: 0.9910 - val_loss: 1.2579 - val_categorical_accuracy: 0.5000 - lr: 1.2500e-04\n",
      "Epoch 25/30\n",
      "9/9 [==============================] - ETA: 0s - loss: 0.0507 - categorical_accuracy: 0.9864\n",
      "Epoch 00025: saving model to model_init_2022-07-0911_28_36.686044/model-00025-0.05066-0.98643-1.19759-0.49000.h5\n",
      "\n",
      "Epoch 00025: ReduceLROnPlateau reducing learning rate to 6.25000029685907e-05.\n",
      "9/9 [==============================] - 104s 13s/step - loss: 0.0507 - categorical_accuracy: 0.9864 - val_loss: 1.1976 - val_categorical_accuracy: 0.4900 - lr: 1.2500e-04\n",
      "Epoch 26/30\n",
      "9/9 [==============================] - ETA: 0s - loss: 0.0349 - categorical_accuracy: 0.9925\n",
      "Epoch 00026: saving model to model_init_2022-07-0911_28_36.686044/model-00026-0.03493-0.99246-1.15385-0.51000.h5\n",
      "9/9 [==============================] - 94s 12s/step - loss: 0.0349 - categorical_accuracy: 0.9925 - val_loss: 1.1538 - val_categorical_accuracy: 0.5100 - lr: 6.2500e-05\n",
      "Epoch 27/30\n",
      "9/9 [==============================] - ETA: 0s - loss: 0.0319 - categorical_accuracy: 0.9940\n",
      "Epoch 00027: saving model to model_init_2022-07-0911_28_36.686044/model-00027-0.03190-0.99397-1.15237-0.57000.h5\n",
      "9/9 [==============================] - 104s 13s/step - loss: 0.0319 - categorical_accuracy: 0.9940 - val_loss: 1.1524 - val_categorical_accuracy: 0.5700 - lr: 6.2500e-05\n",
      "Epoch 28/30\n",
      "9/9 [==============================] - ETA: 0s - loss: 0.0264 - categorical_accuracy: 0.9970\n",
      "Epoch 00028: saving model to model_init_2022-07-0911_28_36.686044/model-00028-0.02644-0.99698-1.07854-0.62000.h5\n",
      "9/9 [==============================] - 92s 11s/step - loss: 0.0264 - categorical_accuracy: 0.9970 - val_loss: 1.0785 - val_categorical_accuracy: 0.6200 - lr: 6.2500e-05\n",
      "Epoch 29/30\n",
      "9/9 [==============================] - ETA: 0s - loss: 0.0229 - categorical_accuracy: 0.9970\n",
      "Epoch 00029: saving model to model_init_2022-07-0911_28_36.686044/model-00029-0.02294-0.99698-1.11159-0.60000.h5\n",
      "9/9 [==============================] - 102s 13s/step - loss: 0.0229 - categorical_accuracy: 0.9970 - val_loss: 1.1116 - val_categorical_accuracy: 0.6000 - lr: 6.2500e-05\n",
      "Epoch 30/30\n",
      "9/9 [==============================] - ETA: 0s - loss: 0.0209 - categorical_accuracy: 0.9955\n",
      "Epoch 00030: saving model to model_init_2022-07-0911_28_36.686044/model-00030-0.02087-0.99548-1.13095-0.58000.h5\n",
      "\n",
      "Epoch 00030: ReduceLROnPlateau reducing learning rate to 3.125000148429535e-05.\n",
      "9/9 [==============================] - 95s 12s/step - loss: 0.0209 - categorical_accuracy: 0.9955 - val_loss: 1.1309 - val_categorical_accuracy: 0.5800 - lr: 6.2500e-05\n",
      "Total time taken for GRU - Model2 training:  2975.16  secs\n"
     ]
    }
   ],
   "source": [
    "start = time.time()\n",
    "\n",
    "history = modelGRU.fit(train_generator, steps_per_epoch=steps_per_epoch, epochs=num_epochs, verbose=1, \n",
    "                    callbacks=callbacks_list, validation_data=val_generator, \n",
    "                    validation_steps=validation_steps, class_weight=None, workers=1, initial_epoch=0)\n",
    "\n",
    "end = time.time()\n",
    "\n",
    "print(\"Total time taken for GRU - Model2 training: \", \"{:.2f}\".format((end-start)), \" secs\")"
   ]
  },
  {
   "cell_type": "code",
   "execution_count": 33,
   "metadata": {},
   "outputs": [
    {
     "data": {
      "image/png": "[encoded data removed]",
      "text/plain": [
       "<Figure size 720x720 with 1 Axes>"
      ]
     },
     "metadata": {
      "needs_background": "light"
     },
     "output_type": "display_data"
    }
   ],
   "source": [
    "#Plotting the change in model accuracy on train and val sets\n",
    "fig_acc = plt.figure(figsize=(10, 10))\n",
    "plt.plot(history.history['categorical_accuracy'])\n",
    "plt.plot(history.history['val_categorical_accuracy'])\n",
    "plt.title('GRUN model accuracy')\n",
    "plt.ylabel('accuracy')\n",
    "plt.xlabel('epoch')\n",
    "plt.legend(['train', 'val'], loc='upper left')\n",
    "plt.show()\n",
    "fig_acc.savefig(\"GRU model_accuracy.png\")"
   ]
  },
  {
   "cell_type": "markdown",
   "metadata": {},
   "source": [
    "## CNN + RNN (LSTM)"
   ]
  },
  {
   "cell_type": "code",
   "execution_count": 15,
   "metadata": {},
   "outputs": [
    {
     "name": "stderr",
     "output_type": "stream",
     "text": [
      "2022-07-09 13:58:36.397989: W tensorflow/core/common_runtime/gpu/gpu_bfc_allocator.cc:39] Overriding allow_growth setting because the TF_FORCE_GPU_ALLOW_GROWTH environment variable is set. Original config value was 0.\n",
      "2022-07-09 13:58:36.398050: I tensorflow/core/common_runtime/gpu/gpu_device.cc:1525] Created device /job:localhost/replica:0/task:0/device:GPU:0 with 14803 MB memory:  -> device: 0, name: Quadro RTX 5000, pci bus id: 0000:1d:00.0, compute capability: 7.5\n"
     ]
    },
    {
     "name": "stdout",
     "output_type": "stream",
     "text": [
      "Model: \"sequential\"\n",
      "_________________________________________________________________\n",
      " Layer (type)                Output Shape              Param #   \n",
      "=================================================================\n",
      " time_distributed (TimeDistr  (None, 18, 32, 32, 8)    224       \n",
      " ibuted)                                                         \n",
      "                                                                 \n",
      " time_distributed_1 (TimeDis  (None, 18, 32, 32, 16)   1168      \n",
      " tributed)                                                       \n",
      "                                                                 \n",
      " time_distributed_2 (TimeDis  (None, 18, 16, 16, 16)   0         \n",
      " tributed)                                                       \n",
      "                                                                 \n",
      " time_distributed_3 (TimeDis  (None, 18, 16, 16, 32)   4640      \n",
      " tributed)                                                       \n",
      "                                                                 \n",
      " time_distributed_4 (TimeDis  (None, 18, 8, 8, 32)     0         \n",
      " tributed)                                                       \n",
      "                                                                 \n",
      " time_distributed_5 (TimeDis  (None, 18, 8, 8, 64)     8256      \n",
      " tributed)                                                       \n",
      "                                                                 \n",
      " time_distributed_6 (TimeDis  (None, 18, 4, 4, 64)     0         \n",
      " tributed)                                                       \n",
      "                                                                 \n",
      " time_distributed_7 (TimeDis  (None, 18, 4, 4, 64)     256       \n",
      " tributed)                                                       \n",
      "                                                                 \n",
      " dropout (Dropout)           (None, 18, 4, 4, 64)      0         \n",
      "                                                                 \n",
      " time_distributed_8 (TimeDis  (None, 18, 1024)         0         \n",
      " tributed)                                                       \n",
      "                                                                 \n",
      " dense (Dense)               (None, 18, 128)           131200    \n",
      "                                                                 \n",
      " dropout_1 (Dropout)         (None, 18, 128)           0         \n",
      "                                                                 \n",
      " dense_1 (Dense)             (None, 18, 64)            8256      \n",
      "                                                                 \n",
      " dropout_2 (Dropout)         (None, 18, 64)            0         \n",
      "                                                                 \n",
      " lstm (LSTM)                 (None, 128)               98816     \n",
      "                                                                 \n",
      " dense_2 (Dense)             (None, 5)                 645       \n",
      "                                                                 \n",
      "=================================================================\n",
      "Total params: 253,461\n",
      "Trainable params: 253,333\n",
      "Non-trainable params: 128\n",
      "_________________________________________________________________\n",
      "None\n"
     ]
    }
   ],
   "source": [
    "nb_featuremap = [8,16,32,64]\n",
    "nb_dense = [128,64,5]\n",
    "nb_classes = 5\n",
    "Input_shape = (18,64,64,3)\n",
    "\n",
    "modelLSTM = Sequential()\n",
    "\n",
    "modelLSTM.add(TimeDistributed(Conv2D(nb_featuremap[0], (3, 3), strides=(2, 2),activation='relu', padding='same'), input_shape=Input_shape))\n",
    "\n",
    "\n",
    "modelLSTM.add(TimeDistributed(Conv2D(nb_featuremap[1], (3,3),padding='same', activation='relu')))\n",
    "modelLSTM.add(TimeDistributed(MaxPooling2D((2, 2), strides=(2, 2))))\n",
    "\n",
    "modelLSTM.add(TimeDistributed(Conv2D(nb_featuremap[2], (3,3),padding='same', activation='relu')))\n",
    "modelLSTM.add(TimeDistributed(MaxPooling2D((2, 2), strides=(2, 2))))\n",
    "\n",
    "modelLSTM.add(TimeDistributed(Conv2D(nb_featuremap[3], (2,2),padding='same', activation='relu')))\n",
    "modelLSTM.add(TimeDistributed(MaxPooling2D((2, 2), strides=(2, 2))))\n",
    "\n",
    "modelLSTM.add(TimeDistributed(BatchNormalization()))\n",
    "modelLSTM.add(Dropout(0.25))\n",
    "\n",
    "modelLSTM.add(TimeDistributed(Flatten()))\n",
    "\n",
    "modelLSTM.add(Dense(nb_dense[0], activation='relu'))\n",
    "modelLSTM.add(Dropout(0.25))\n",
    "modelLSTM.add(Dense(nb_dense[1], activation='relu'))\n",
    "modelLSTM.add(Dropout(0.25))\n",
    "\n",
    "## using GRU as the RNN model along with softmax as our last layer.\n",
    "modelLSTM.add(LSTM(128, return_sequences=False))\n",
    "modelLSTM.add(Dense(nb_classes, activation='softmax')) # using Softmax as last layer\n",
    "modelLSTM.compile(optimizer='adam', loss='categorical_crossentropy', metrics=['categorical_accuracy'])\n",
    "print (modelLSTM.summary())"
   ]
  },
  {
   "cell_type": "code",
   "execution_count": 16,
   "metadata": {},
   "outputs": [
    {
     "name": "stdout",
     "output_type": "stream",
     "text": [
      "Source path =  /home/datasets/Project_data/train ; batch size = 80\n",
      "Epoch 1/30\n"
     ]
    },
    {
     "name": "stderr",
     "output_type": "stream",
     "text": [
      "2022-07-09 13:58:53.785188: I tensorflow/stream_executor/cuda/cuda_dnn.cc:377] Loaded cuDNN version 8302\n"
     ]
    },
    {
     "name": "stdout",
     "output_type": "stream",
     "text": [
      "9/9 [==============================] - ETA: 0s - loss: 1.4676 - categorical_accuracy: 0.3002Source path =  /home/datasets/Project_data/val ; batch size = 80\n",
      "\n",
      "Epoch 00001: saving model to model_init_2022-07-0913_58_14.877633/model-00001-1.46759-0.30015-1.64621-0.23000.h5\n",
      "9/9 [==============================] - 107s 13s/step - loss: 1.4676 - categorical_accuracy: 0.3002 - val_loss: 1.6462 - val_categorical_accuracy: 0.2300 - lr: 0.0010\n",
      "Epoch 2/30\n",
      "9/9 [==============================] - ETA: 0s - loss: 1.2513 - categorical_accuracy: 0.4872 \n",
      "Epoch 00002: saving model to model_init_2022-07-0913_58_14.877633/model-00002-1.25134-0.48718-1.65392-0.27000.h5\n",
      "9/9 [==============================] - 93s 12s/step - loss: 1.2513 - categorical_accuracy: 0.4872 - val_loss: 1.6539 - val_categorical_accuracy: 0.2700 - lr: 0.0010\n",
      "Epoch 3/30\n",
      "9/9 [==============================] - ETA: 0s - loss: 1.1015 - categorical_accuracy: 0.5249\n",
      "Epoch 00003: saving model to model_init_2022-07-0913_58_14.877633/model-00003-1.10152-0.52489-1.61428-0.23000.h5\n",
      "9/9 [==============================] - 102s 13s/step - loss: 1.1015 - categorical_accuracy: 0.5249 - val_loss: 1.6143 - val_categorical_accuracy: 0.2300 - lr: 0.0010\n",
      "Epoch 4/30\n",
      "9/9 [==============================] - ETA: 0s - loss: 0.9351 - categorical_accuracy: 0.6048\n",
      "Epoch 00004: saving model to model_init_2022-07-0913_58_14.877633/model-00004-0.93506-0.60483-1.62301-0.33000.h5\n",
      "9/9 [==============================] - 92s 11s/step - loss: 0.9351 - categorical_accuracy: 0.6048 - val_loss: 1.6230 - val_categorical_accuracy: 0.3300 - lr: 0.0010\n",
      "Epoch 5/30\n",
      "9/9 [==============================] - ETA: 0s - loss: 0.7712 - categorical_accuracy: 0.6908 \n",
      "Epoch 00005: saving model to model_init_2022-07-0913_58_14.877633/model-00005-0.77124-0.69080-1.72789-0.23000.h5\n",
      "\n",
      "Epoch 00005: ReduceLROnPlateau reducing learning rate to 0.0005000000237487257.\n",
      "9/9 [==============================] - 103s 13s/step - loss: 0.7712 - categorical_accuracy: 0.6908 - val_loss: 1.7279 - val_categorical_accuracy: 0.2300 - lr: 0.0010\n",
      "Epoch 6/30\n",
      "9/9 [==============================] - ETA: 0s - loss: 0.6889 - categorical_accuracy: 0.7360 \n",
      "Epoch 00006: saving model to model_init_2022-07-0913_58_14.877633/model-00006-0.68889-0.73605-1.58216-0.27000.h5\n",
      "9/9 [==============================] - 94s 12s/step - loss: 0.6889 - categorical_accuracy: 0.7360 - val_loss: 1.5822 - val_categorical_accuracy: 0.2700 - lr: 5.0000e-04\n",
      "Epoch 7/30\n",
      "9/9 [==============================] - ETA: 0s - loss: 0.5193 - categorical_accuracy: 0.8130 \n",
      "Epoch 00007: saving model to model_init_2022-07-0913_58_14.877633/model-00007-0.51932-0.81297-1.57343-0.31000.h5\n",
      "9/9 [==============================] - 102s 13s/step - loss: 0.5193 - categorical_accuracy: 0.8130 - val_loss: 1.5734 - val_categorical_accuracy: 0.3100 - lr: 5.0000e-04\n",
      "Epoch 8/30\n",
      "9/9 [==============================] - ETA: 0s - loss: 0.3873 - categorical_accuracy: 0.8778 \n",
      "Epoch 00008: saving model to model_init_2022-07-0913_58_14.877633/model-00008-0.38726-0.87783-1.45755-0.43000.h5\n",
      "9/9 [==============================] - 93s 12s/step - loss: 0.3873 - categorical_accuracy: 0.8778 - val_loss: 1.4575 - val_categorical_accuracy: 0.4300 - lr: 5.0000e-04\n",
      "Epoch 9/30\n",
      "9/9 [==============================] - ETA: 0s - loss: 0.3360 - categorical_accuracy: 0.8748\n",
      "Epoch 00009: saving model to model_init_2022-07-0913_58_14.877633/model-00009-0.33600-0.87481-1.44314-0.36000.h5\n",
      "9/9 [==============================] - 102s 13s/step - loss: 0.3360 - categorical_accuracy: 0.8748 - val_loss: 1.4431 - val_categorical_accuracy: 0.3600 - lr: 5.0000e-04\n",
      "Epoch 10/30\n",
      "9/9 [==============================] - ETA: 0s - loss: 0.2757 - categorical_accuracy: 0.9080 \n",
      "Epoch 00010: saving model to model_init_2022-07-0913_58_14.877633/model-00010-0.27565-0.90799-1.49148-0.36000.h5\n",
      "9/9 [==============================] - 93s 12s/step - loss: 0.2757 - categorical_accuracy: 0.9080 - val_loss: 1.4915 - val_categorical_accuracy: 0.3600 - lr: 5.0000e-04\n",
      "Epoch 11/30\n",
      "9/9 [==============================] - ETA: 0s - loss: 0.2078 - categorical_accuracy: 0.9382 \n",
      "Epoch 00011: saving model to model_init_2022-07-0913_58_14.877633/model-00011-0.20778-0.93816-1.46049-0.35000.h5\n",
      "\n",
      "Epoch 00011: ReduceLROnPlateau reducing learning rate to 0.0002500000118743628.\n",
      "9/9 [==============================] - 101s 13s/step - loss: 0.2078 - categorical_accuracy: 0.9382 - val_loss: 1.4605 - val_categorical_accuracy: 0.3500 - lr: 5.0000e-04\n",
      "Epoch 12/30\n",
      "9/9 [==============================] - ETA: 0s - loss: 0.1638 - categorical_accuracy: 0.9517 \n",
      "Epoch 00012: saving model to model_init_2022-07-0913_58_14.877633/model-00012-0.16381-0.95173-1.44372-0.39000.h5\n",
      "9/9 [==============================] - 94s 12s/step - loss: 0.1638 - categorical_accuracy: 0.9517 - val_loss: 1.4437 - val_categorical_accuracy: 0.3900 - lr: 2.5000e-04\n",
      "Epoch 13/30\n",
      "9/9 [==============================] - ETA: 0s - loss: 0.1034 - categorical_accuracy: 0.9759 \n",
      "Epoch 00013: saving model to model_init_2022-07-0913_58_14.877633/model-00013-0.10340-0.97587-1.36466-0.45000.h5\n",
      "9/9 [==============================] - 103s 13s/step - loss: 0.1034 - categorical_accuracy: 0.9759 - val_loss: 1.3647 - val_categorical_accuracy: 0.4500 - lr: 2.5000e-04\n",
      "Epoch 14/30\n",
      "9/9 [==============================] - ETA: 0s - loss: 0.0819 - categorical_accuracy: 0.9819 \n",
      "Epoch 00014: saving model to model_init_2022-07-0913_58_14.877633/model-00014-0.08194-0.98190-1.31317-0.53000.h5\n",
      "9/9 [==============================] - 93s 12s/step - loss: 0.0819 - categorical_accuracy: 0.9819 - val_loss: 1.3132 - val_categorical_accuracy: 0.5300 - lr: 2.5000e-04\n",
      "Epoch 15/30\n",
      "9/9 [==============================] - ETA: 0s - loss: 0.0619 - categorical_accuracy: 0.9834 \n",
      "Epoch 00015: saving model to model_init_2022-07-0913_58_14.877633/model-00015-0.06190-0.98341-1.31464-0.55000.h5\n",
      "9/9 [==============================] - 103s 13s/step - loss: 0.0619 - categorical_accuracy: 0.9834 - val_loss: 1.3146 - val_categorical_accuracy: 0.5500 - lr: 2.5000e-04\n",
      "Epoch 16/30\n",
      "9/9 [==============================] - ETA: 0s - loss: 0.0460 - categorical_accuracy: 0.9910 \n",
      "Epoch 00016: saving model to model_init_2022-07-0913_58_14.877633/model-00016-0.04597-0.99095-1.30151-0.56000.h5\n",
      "9/9 [==============================] - 92s 11s/step - loss: 0.0460 - categorical_accuracy: 0.9910 - val_loss: 1.3015 - val_categorical_accuracy: 0.5600 - lr: 2.5000e-04\n",
      "Epoch 17/30\n",
      "9/9 [==============================] - ETA: 0s - loss: 0.0369 - categorical_accuracy: 0.9925 \n",
      "Epoch 00017: saving model to model_init_2022-07-0913_58_14.877633/model-00017-0.03686-0.99246-1.25226-0.61000.h5\n",
      "9/9 [==============================] - 101s 13s/step - loss: 0.0369 - categorical_accuracy: 0.9925 - val_loss: 1.2523 - val_categorical_accuracy: 0.6100 - lr: 2.5000e-04\n",
      "Epoch 18/30\n",
      "9/9 [==============================] - ETA: 0s - loss: 0.0308 - categorical_accuracy: 0.9970 \n",
      "Epoch 00018: saving model to model_init_2022-07-0913_58_14.877633/model-00018-0.03076-0.99698-1.24713-0.55000.h5\n",
      "9/9 [==============================] - 93s 12s/step - loss: 0.0308 - categorical_accuracy: 0.9970 - val_loss: 1.2471 - val_categorical_accuracy: 0.5500 - lr: 2.5000e-04\n",
      "Epoch 19/30\n",
      "9/9 [==============================] - ETA: 0s - loss: 0.0301 - categorical_accuracy: 0.9955 \n",
      "Epoch 00019: saving model to model_init_2022-07-0913_58_14.877633/model-00019-0.03010-0.99548-1.22826-0.55000.h5\n",
      "9/9 [==============================] - 103s 13s/step - loss: 0.0301 - categorical_accuracy: 0.9955 - val_loss: 1.2283 - val_categorical_accuracy: 0.5500 - lr: 2.5000e-04\n",
      "Epoch 20/30\n",
      "9/9 [==============================] - ETA: 0s - loss: 0.0223 - categorical_accuracy: 0.9970 \n",
      "Epoch 00020: saving model to model_init_2022-07-0913_58_14.877633/model-00020-0.02226-0.99698-1.17748-0.54000.h5\n",
      "9/9 [==============================] - 93s 12s/step - loss: 0.0223 - categorical_accuracy: 0.9970 - val_loss: 1.1775 - val_categorical_accuracy: 0.5400 - lr: 2.5000e-04\n",
      "Epoch 21/30\n",
      "9/9 [==============================] - ETA: 0s - loss: 0.0428 - categorical_accuracy: 0.9864\n",
      "Epoch 00021: saving model to model_init_2022-07-0913_58_14.877633/model-00021-0.04275-0.98643-1.16922-0.62000.h5\n",
      "9/9 [==============================] - 102s 13s/step - loss: 0.0428 - categorical_accuracy: 0.9864 - val_loss: 1.1692 - val_categorical_accuracy: 0.6200 - lr: 2.5000e-04\n",
      "Epoch 22/30\n",
      "9/9 [==============================] - ETA: 0s - loss: 0.0471 - categorical_accuracy: 0.9834 \n",
      "Epoch 00022: saving model to model_init_2022-07-0913_58_14.877633/model-00022-0.04710-0.98341-1.17173-0.54000.h5\n",
      "9/9 [==============================] - 93s 12s/step - loss: 0.0471 - categorical_accuracy: 0.9834 - val_loss: 1.1717 - val_categorical_accuracy: 0.5400 - lr: 2.5000e-04\n",
      "Epoch 23/30\n",
      "9/9 [==============================] - ETA: 0s - loss: 0.0256 - categorical_accuracy: 0.9940 \n",
      "Epoch 00023: saving model to model_init_2022-07-0913_58_14.877633/model-00023-0.02561-0.99397-1.15796-0.58000.h5\n",
      "9/9 [==============================] - 105s 13s/step - loss: 0.0256 - categorical_accuracy: 0.9940 - val_loss: 1.1580 - val_categorical_accuracy: 0.5800 - lr: 2.5000e-04\n",
      "Epoch 24/30\n",
      "9/9 [==============================] - ETA: 0s - loss: 0.0300 - categorical_accuracy: 0.9910\n",
      "Epoch 00024: saving model to model_init_2022-07-0913_58_14.877633/model-00024-0.03003-0.99095-1.19620-0.50000.h5\n",
      "9/9 [==============================] - 89s 11s/step - loss: 0.0300 - categorical_accuracy: 0.9910 - val_loss: 1.1962 - val_categorical_accuracy: 0.5000 - lr: 2.5000e-04\n",
      "Epoch 25/30\n",
      "9/9 [==============================] - ETA: 0s - loss: 0.0255 - categorical_accuracy: 0.9910 \n",
      "Epoch 00025: saving model to model_init_2022-07-0913_58_14.877633/model-00025-0.02554-0.99095-1.15012-0.54000.h5\n",
      "9/9 [==============================] - 100s 12s/step - loss: 0.0255 - categorical_accuracy: 0.9910 - val_loss: 1.1501 - val_categorical_accuracy: 0.5400 - lr: 2.5000e-04\n",
      "Epoch 26/30\n",
      "9/9 [==============================] - ETA: 0s - loss: 0.0176 - categorical_accuracy: 0.9955 \n",
      "Epoch 00026: saving model to model_init_2022-07-0913_58_14.877633/model-00026-0.01757-0.99548-1.16171-0.58000.h5\n",
      "9/9 [==============================] - 95s 12s/step - loss: 0.0176 - categorical_accuracy: 0.9955 - val_loss: 1.1617 - val_categorical_accuracy: 0.5800 - lr: 2.5000e-04\n",
      "Epoch 27/30\n",
      "9/9 [==============================] - ETA: 0s - loss: 0.0152 - categorical_accuracy: 0.9985 \n",
      "Epoch 00027: saving model to model_init_2022-07-0913_58_14.877633/model-00027-0.01520-0.99849-1.14365-0.50000.h5\n",
      "9/9 [==============================] - 103s 13s/step - loss: 0.0152 - categorical_accuracy: 0.9985 - val_loss: 1.1437 - val_categorical_accuracy: 0.5000 - lr: 2.5000e-04\n",
      "Epoch 28/30\n",
      "9/9 [==============================] - ETA: 0s - loss: 0.0179 - categorical_accuracy: 0.9970 \n",
      "Epoch 00028: saving model to model_init_2022-07-0913_58_14.877633/model-00028-0.01788-0.99698-1.09679-0.51000.h5\n",
      "9/9 [==============================] - 94s 12s/step - loss: 0.0179 - categorical_accuracy: 0.9970 - val_loss: 1.0968 - val_categorical_accuracy: 0.5100 - lr: 2.5000e-04\n",
      "Epoch 29/30\n",
      "9/9 [==============================] - ETA: 0s - loss: 0.0113 - categorical_accuracy: 0.9985\n",
      "Epoch 00029: saving model to model_init_2022-07-0913_58_14.877633/model-00029-0.01130-0.99849-1.12685-0.52000.h5\n",
      "9/9 [==============================] - 101s 13s/step - loss: 0.0113 - categorical_accuracy: 0.9985 - val_loss: 1.1269 - val_categorical_accuracy: 0.5200 - lr: 2.5000e-04\n",
      "Epoch 30/30\n",
      "9/9 [==============================] - ETA: 0s - loss: 0.0223 - categorical_accuracy: 0.9955 \n",
      "Epoch 00030: saving model to model_init_2022-07-0913_58_14.877633/model-00030-0.02232-0.99548-1.15036-0.58000.h5\n",
      "\n",
      "Epoch 00030: ReduceLROnPlateau reducing learning rate to 0.0001250000059371814.\n",
      "9/9 [==============================] - 93s 12s/step - loss: 0.0223 - categorical_accuracy: 0.9955 - val_loss: 1.1504 - val_categorical_accuracy: 0.5800 - lr: 2.5000e-04\n",
      "Total time taken for LSTM training:  2973.86  secs\n"
     ]
    }
   ],
   "source": [
    "start = time.time()\n",
    "\n",
    "history = modelLSTM.fit(train_generator, steps_per_epoch=steps_per_epoch, epochs=num_epochs, verbose=1, \n",
    "                    callbacks=callbacks_list, validation_data=val_generator, \n",
    "                    validation_steps=validation_steps, class_weight=None, workers=1, initial_epoch=0)\n",
    "\n",
    "end = time.time()\n",
    "\n",
    "print(\"Total time taken for LSTM training: \", \"{:.2f}\".format((end-start)), \" secs\")"
   ]
  },
  {
   "cell_type": "code",
   "execution_count": 17,
   "metadata": {},
   "outputs": [
    {
     "data": {
      "image/png": "[encoded data removed]",
      "text/plain": [
       "<Figure size 720x720 with 1 Axes>"
      ]
     },
     "metadata": {
      "needs_background": "light"
     },
     "output_type": "display_data"
    }
   ],
   "source": [
    "#Plotting the change in model accuracy on train and val sets\n",
    "fig_acc = plt.figure(figsize=(10, 10))\n",
    "plt.plot(history.history['categorical_accuracy'])\n",
    "plt.plot(history.history['val_categorical_accuracy'])\n",
    "plt.title('LSTM model accuracy')\n",
    "plt.ylabel('accuracy')\n",
    "plt.xlabel('epoch')\n",
    "plt.legend(['train', 'val'], loc='upper left')\n",
    "plt.show()\n",
    "fig_acc.savefig(\"LSTM model_accuracy.png\")"
   ]
  },
  {
   "cell_type": "code",
   "execution_count": null,
   "metadata": {},
   "outputs": [],
   "source": []
  }
 ],
 "metadata": {
  "accelerator": "TPU",
  "colab": {
   "collapsed_sections": [],
   "name": "Gesture_Recognition.ipynb",
   "provenance": []
  },
  "gpuClass": "standard",
  "kernelspec": {
   "display_name": "Python 3 (ipykernel)",
   "language": "python",
   "name": "python3"
  },
  "language_info": {
   "codemirror_mode": {
    "name": "ipython",
    "version": 3
   },
   "file_extension": ".py",
   "mimetype": "text/x-python",
   "name": "python",
   "nbconvert_exporter": "python",
   "pygments_lexer": "ipython3",
   "version": "3.8.10"
  }
 },
 "nbformat": 4,
 "nbformat_minor": 4
}
